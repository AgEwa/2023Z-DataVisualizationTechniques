{
 "cells": [
  {
   "cell_type": "markdown",
   "id": "caa75dbf",
   "metadata": {},
   "source": [
    "# Praca domowa nr 8"
   ]
  },
  {
   "cell_type": "markdown",
   "id": "b5401c27",
   "metadata": {},
   "source": [
    "- Dane to tej pracy domowej to lista top 5000 albumów muzycznych wg portalu [rateyourmusic.com](https://rateyourmusic.com). Dataset wraz z opisem można znaleźć na [Kaggle'u](https://www.kaggle.com/datasets/michaelbryantds/top-5000-albums-of-all-time-rateyourmusiccom). \n",
    "- Dane znajdują się też w katalogu z pracą domową - nazwa pliku to `rym_top5000.csv`.  "
   ]
  },
  {
   "cell_type": "markdown",
   "id": "4f2dc2f5",
   "metadata": {},
   "source": [
    "## Zadanie 1 - `numpy` + `pandas` (2 pkt)\n",
    "Używając funkcji z pakietów `numpy` oraz `pandas` odpowiedz na poniższe pytania dotyczące zbioru danych o albumach muzycznych."
   ]
  },
  {
   "cell_type": "code",
   "execution_count": 1,
   "id": "7c1befd1",
   "metadata": {},
   "outputs": [],
   "source": [
    "import numpy as np\n",
    "import pandas as pd"
   ]
  },
  {
   "cell_type": "code",
   "execution_count": 2,
   "id": "227cdfef",
   "metadata": {},
   "outputs": [],
   "source": [
    "df = pd.read_csv(\"rym_top5000.csv\", thousands = ',')"
   ]
  },
  {
   "cell_type": "code",
   "execution_count": 3,
   "id": "64d99c26",
   "metadata": {},
   "outputs": [
    {
     "data": {
      "text/html": [
       "<div>\n",
       "<style scoped>\n",
       "    .dataframe tbody tr th:only-of-type {\n",
       "        vertical-align: middle;\n",
       "    }\n",
       "\n",
       "    .dataframe tbody tr th {\n",
       "        vertical-align: top;\n",
       "    }\n",
       "\n",
       "    .dataframe thead th {\n",
       "        text-align: right;\n",
       "    }\n",
       "</style>\n",
       "<table border=\"1\" class=\"dataframe\">\n",
       "  <thead>\n",
       "    <tr style=\"text-align: right;\">\n",
       "      <th></th>\n",
       "      <th>Ranking</th>\n",
       "      <th>Album</th>\n",
       "      <th>Artist Name</th>\n",
       "      <th>Release Date</th>\n",
       "      <th>Genres</th>\n",
       "      <th>Descriptors</th>\n",
       "      <th>Average Rating</th>\n",
       "      <th>Number of Ratings</th>\n",
       "      <th>Number of Reviews</th>\n",
       "    </tr>\n",
       "  </thead>\n",
       "  <tbody>\n",
       "    <tr>\n",
       "      <th>0</th>\n",
       "      <td>1.0</td>\n",
       "      <td>OK Computer</td>\n",
       "      <td>Radiohead</td>\n",
       "      <td>16 June 1997</td>\n",
       "      <td>Alternative Rock, Art Rock</td>\n",
       "      <td>melancholic, anxious, futuristic, alienation, ...</td>\n",
       "      <td>4.23</td>\n",
       "      <td>70382</td>\n",
       "      <td>1531</td>\n",
       "    </tr>\n",
       "    <tr>\n",
       "      <th>1</th>\n",
       "      <td>2.0</td>\n",
       "      <td>Wish You Were Here</td>\n",
       "      <td>Pink Floyd</td>\n",
       "      <td>12 September 1975</td>\n",
       "      <td>Progressive Rock, Art Rock</td>\n",
       "      <td>melancholic, atmospheric, progressive, male vo...</td>\n",
       "      <td>4.29</td>\n",
       "      <td>48662</td>\n",
       "      <td>983</td>\n",
       "    </tr>\n",
       "    <tr>\n",
       "      <th>2</th>\n",
       "      <td>3.0</td>\n",
       "      <td>In the Court of the Crimson King</td>\n",
       "      <td>King Crimson</td>\n",
       "      <td>10 October 1969</td>\n",
       "      <td>Progressive Rock, Art Rock</td>\n",
       "      <td>fantasy, epic, progressive, philosophical, com...</td>\n",
       "      <td>4.30</td>\n",
       "      <td>44943</td>\n",
       "      <td>870</td>\n",
       "    </tr>\n",
       "    <tr>\n",
       "      <th>3</th>\n",
       "      <td>4.0</td>\n",
       "      <td>Kid A</td>\n",
       "      <td>Radiohead</td>\n",
       "      <td>3 October 2000</td>\n",
       "      <td>Art Rock, Experimental Rock, Electronic</td>\n",
       "      <td>cold, melancholic, futuristic, atmospheric, an...</td>\n",
       "      <td>4.21</td>\n",
       "      <td>58590</td>\n",
       "      <td>734</td>\n",
       "    </tr>\n",
       "    <tr>\n",
       "      <th>4</th>\n",
       "      <td>5.0</td>\n",
       "      <td>To Pimp a Butterfly</td>\n",
       "      <td>Kendrick Lamar</td>\n",
       "      <td>15 March 2015</td>\n",
       "      <td>Conscious Hip Hop, West Coast Hip Hop, Jazz Rap</td>\n",
       "      <td>political, conscious, poetic, protest, concept...</td>\n",
       "      <td>4.27</td>\n",
       "      <td>44206</td>\n",
       "      <td>379</td>\n",
       "    </tr>\n",
       "  </tbody>\n",
       "</table>\n",
       "</div>"
      ],
      "text/plain": [
       "   Ranking                             Album     Artist Name  \\\n",
       "0      1.0                       OK Computer       Radiohead   \n",
       "1      2.0                Wish You Were Here      Pink Floyd   \n",
       "2      3.0  In the Court of the Crimson King    King Crimson   \n",
       "3      4.0                             Kid A       Radiohead   \n",
       "4      5.0               To Pimp a Butterfly  Kendrick Lamar   \n",
       "\n",
       "        Release Date                                           Genres  \\\n",
       "0       16 June 1997                       Alternative Rock, Art Rock   \n",
       "1  12 September 1975                       Progressive Rock, Art Rock   \n",
       "2    10 October 1969                       Progressive Rock, Art Rock   \n",
       "3     3 October 2000          Art Rock, Experimental Rock, Electronic   \n",
       "4      15 March 2015  Conscious Hip Hop, West Coast Hip Hop, Jazz Rap   \n",
       "\n",
       "                                         Descriptors  Average Rating  \\\n",
       "0  melancholic, anxious, futuristic, alienation, ...            4.23   \n",
       "1  melancholic, atmospheric, progressive, male vo...            4.29   \n",
       "2  fantasy, epic, progressive, philosophical, com...            4.30   \n",
       "3  cold, melancholic, futuristic, atmospheric, an...            4.21   \n",
       "4  political, conscious, poetic, protest, concept...            4.27   \n",
       "\n",
       "   Number of Ratings  Number of Reviews  \n",
       "0              70382               1531  \n",
       "1              48662                983  \n",
       "2              44943                870  \n",
       "3              58590                734  \n",
       "4              44206                379  "
      ]
     },
     "execution_count": 3,
     "metadata": {},
     "output_type": "execute_result"
    }
   ],
   "source": [
    "df.head()"
   ]
  },
  {
   "cell_type": "code",
   "execution_count": 4,
   "id": "e2dc060d",
   "metadata": {},
   "outputs": [
    {
     "data": {
      "text/plain": [
       "(5000, 9)"
      ]
     },
     "execution_count": 4,
     "metadata": {},
     "output_type": "execute_result"
    }
   ],
   "source": [
    "df.shape"
   ]
  },
  {
   "cell_type": "markdown",
   "id": "9db9ab53",
   "metadata": {},
   "source": [
    "#### Jacy artyści z ponad 5 albumami na liście mają największą medianę ocen dla swoich albumów? Podaj top 10."
   ]
  },
  {
   "cell_type": "code",
   "execution_count": 5,
   "id": "5979cffd",
   "metadata": {},
   "outputs": [
    {
     "data": {
      "text/html": [
       "<div>\n",
       "<style scoped>\n",
       "    .dataframe tbody tr th:only-of-type {\n",
       "        vertical-align: middle;\n",
       "    }\n",
       "\n",
       "    .dataframe tbody tr th {\n",
       "        vertical-align: top;\n",
       "    }\n",
       "\n",
       "    .dataframe thead th {\n",
       "        text-align: right;\n",
       "    }\n",
       "</style>\n",
       "<table border=\"1\" class=\"dataframe\">\n",
       "  <thead>\n",
       "    <tr style=\"text-align: right;\">\n",
       "      <th></th>\n",
       "      <th>Artist Name</th>\n",
       "      <th>Average Rating</th>\n",
       "    </tr>\n",
       "  </thead>\n",
       "  <tbody>\n",
       "    <tr>\n",
       "      <th>537</th>\n",
       "      <td>David Bowie</td>\n",
       "      <td>4.021250</td>\n",
       "    </tr>\n",
       "    <tr>\n",
       "      <th>1844</th>\n",
       "      <td>Radiohead</td>\n",
       "      <td>3.970000</td>\n",
       "    </tr>\n",
       "    <tr>\n",
       "      <th>258</th>\n",
       "      <td>Black Sabbath</td>\n",
       "      <td>3.950000</td>\n",
       "    </tr>\n",
       "    <tr>\n",
       "      <th>2233</th>\n",
       "      <td>The Beatles</td>\n",
       "      <td>3.946000</td>\n",
       "    </tr>\n",
       "    <tr>\n",
       "      <th>1228</th>\n",
       "      <td>King Crimson</td>\n",
       "      <td>3.945714</td>\n",
       "    </tr>\n",
       "    <tr>\n",
       "      <th>1293</th>\n",
       "      <td>Led Zeppelin</td>\n",
       "      <td>3.943333</td>\n",
       "    </tr>\n",
       "    <tr>\n",
       "      <th>1782</th>\n",
       "      <td>Pink Floyd</td>\n",
       "      <td>3.935000</td>\n",
       "    </tr>\n",
       "    <tr>\n",
       "      <th>1124</th>\n",
       "      <td>John Coltrane</td>\n",
       "      <td>3.932857</td>\n",
       "    </tr>\n",
       "    <tr>\n",
       "      <th>276</th>\n",
       "      <td>Bob Dylan</td>\n",
       "      <td>3.926364</td>\n",
       "    </tr>\n",
       "    <tr>\n",
       "      <th>722</th>\n",
       "      <td>Ennio Morricone</td>\n",
       "      <td>3.920000</td>\n",
       "    </tr>\n",
       "  </tbody>\n",
       "</table>\n",
       "</div>"
      ],
      "text/plain": [
       "          Artist Name  Average Rating\n",
       "537       David Bowie        4.021250\n",
       "1844        Radiohead        3.970000\n",
       "258     Black Sabbath        3.950000\n",
       "2233      The Beatles        3.946000\n",
       "1228     King Crimson        3.945714\n",
       "1293     Led Zeppelin        3.943333\n",
       "1782       Pink Floyd        3.935000\n",
       "1124    John Coltrane        3.932857\n",
       "276         Bob Dylan        3.926364\n",
       "722   Ennio Morricone        3.920000"
      ]
     },
     "execution_count": 5,
     "metadata": {},
     "output_type": "execute_result"
    }
   ],
   "source": [
    "df2 = df.groupby([\"Artist Name\"]).agg({'Album':'count', 'Average Rating':'mean'}).reset_index()\n",
    "df2 = df2[df2.Album > 5]\n",
    "df2.sort_values(\"Average Rating\", ascending = False, inplace = True)\n",
    "df2 = df2[[\"Artist Name\", \"Average Rating\"]].head(10)\n",
    "df2"
   ]
  },
  {
   "cell_type": "markdown",
   "id": "5b24ae18",
   "metadata": {},
   "source": [
    "#### Jacy artyści mają największą różnicę między najgorszym i najlepszym średnim ratingiem dla swojego albumu? Podaj top 10  oraz najwyższą i najniższą ocenę dla każdego z tych artystów. "
   ]
  },
  {
   "cell_type": "code",
   "execution_count": 6,
   "id": "590614cb",
   "metadata": {},
   "outputs": [
    {
     "data": {
      "text/html": [
       "<div>\n",
       "<style scoped>\n",
       "    .dataframe tbody tr th:only-of-type {\n",
       "        vertical-align: middle;\n",
       "    }\n",
       "\n",
       "    .dataframe tbody tr th {\n",
       "        vertical-align: top;\n",
       "    }\n",
       "\n",
       "    .dataframe thead th {\n",
       "        text-align: right;\n",
       "    }\n",
       "</style>\n",
       "<table border=\"1\" class=\"dataframe\">\n",
       "  <thead>\n",
       "    <tr style=\"text-align: right;\">\n",
       "      <th></th>\n",
       "      <th>Artist Name</th>\n",
       "      <th>Max</th>\n",
       "      <th>Min</th>\n",
       "      <th>Diff</th>\n",
       "    </tr>\n",
       "  </thead>\n",
       "  <tbody>\n",
       "    <tr>\n",
       "      <th>0</th>\n",
       "      <td>Kendrick Lamar</td>\n",
       "      <td>4.27</td>\n",
       "      <td>3.52</td>\n",
       "      <td>0.75</td>\n",
       "    </tr>\n",
       "    <tr>\n",
       "      <th>1</th>\n",
       "      <td>The Beatles</td>\n",
       "      <td>4.25</td>\n",
       "      <td>3.55</td>\n",
       "      <td>0.70</td>\n",
       "    </tr>\n",
       "    <tr>\n",
       "      <th>2</th>\n",
       "      <td>Pink Floyd</td>\n",
       "      <td>4.29</td>\n",
       "      <td>3.60</td>\n",
       "      <td>0.69</td>\n",
       "    </tr>\n",
       "    <tr>\n",
       "      <th>3</th>\n",
       "      <td>My Bloody Valentine</td>\n",
       "      <td>4.24</td>\n",
       "      <td>3.58</td>\n",
       "      <td>0.66</td>\n",
       "    </tr>\n",
       "    <tr>\n",
       "      <th>4</th>\n",
       "      <td>King Crimson</td>\n",
       "      <td>4.30</td>\n",
       "      <td>3.67</td>\n",
       "      <td>0.63</td>\n",
       "    </tr>\n",
       "    <tr>\n",
       "      <th>5</th>\n",
       "      <td>John Coltrane</td>\n",
       "      <td>4.30</td>\n",
       "      <td>3.70</td>\n",
       "      <td>0.60</td>\n",
       "    </tr>\n",
       "    <tr>\n",
       "      <th>6</th>\n",
       "      <td>Radiohead</td>\n",
       "      <td>4.23</td>\n",
       "      <td>3.66</td>\n",
       "      <td>0.57</td>\n",
       "    </tr>\n",
       "    <tr>\n",
       "      <th>7</th>\n",
       "      <td>Miles Davis</td>\n",
       "      <td>4.23</td>\n",
       "      <td>3.69</td>\n",
       "      <td>0.54</td>\n",
       "    </tr>\n",
       "    <tr>\n",
       "      <th>8</th>\n",
       "      <td>The Cure</td>\n",
       "      <td>4.17</td>\n",
       "      <td>3.63</td>\n",
       "      <td>0.54</td>\n",
       "    </tr>\n",
       "    <tr>\n",
       "      <th>9</th>\n",
       "      <td>Kanye West</td>\n",
       "      <td>4.07</td>\n",
       "      <td>3.54</td>\n",
       "      <td>0.53</td>\n",
       "    </tr>\n",
       "  </tbody>\n",
       "</table>\n",
       "</div>"
      ],
      "text/plain": [
       "           Artist Name   Max   Min  Diff\n",
       "0       Kendrick Lamar  4.27  3.52  0.75\n",
       "1          The Beatles  4.25  3.55  0.70\n",
       "2           Pink Floyd  4.29  3.60  0.69\n",
       "3  My Bloody Valentine  4.24  3.58  0.66\n",
       "4         King Crimson  4.30  3.67  0.63\n",
       "5        John Coltrane  4.30  3.70  0.60\n",
       "6            Radiohead  4.23  3.66  0.57\n",
       "7          Miles Davis  4.23  3.69  0.54\n",
       "8             The Cure  4.17  3.63  0.54\n",
       "9           Kanye West  4.07  3.54  0.53"
      ]
     },
     "execution_count": 6,
     "metadata": {},
     "output_type": "execute_result"
    }
   ],
   "source": [
    "df5 = df.groupby([\"Artist Name\"]).agg(Max = ('Average Rating', np.max), \n",
    "                                Min = ('Average Rating', np.min), \n",
    "                                Diff = ('Average Rating', lambda x: max(x)-min(x))).sort_values(\"Diff\", ascending = False).head(10).reset_index()\n",
    "df5"
   ]
  },
  {
   "cell_type": "markdown",
   "id": "c3b4419a",
   "metadata": {},
   "source": [
    "#### Podaj top 10 albumów o największym stosunku liczby ocen do liczby recenzji. Weź pod uwagę tylko albumy o przynajmniej 5000 ocenach i 15 recenzjach."
   ]
  },
  {
   "cell_type": "code",
   "execution_count": 7,
   "id": "1df21072",
   "metadata": {},
   "outputs": [],
   "source": [
    "df3 = df.loc[(df[\"Number of Reviews\"]>=15) &(df[\"Number of Ratings\"]>=5000)]\n",
    "df3 = df3.groupby(\"Album\").agg(NRev = (\"Number of Reviews\",np.max), NRat = (\"Number of Ratings\",np.max)).reset_index()"
   ]
  },
  {
   "cell_type": "code",
   "execution_count": 8,
   "id": "d9e03199",
   "metadata": {},
   "outputs": [
    {
     "data": {
      "text/html": [
       "<div>\n",
       "<style scoped>\n",
       "    .dataframe tbody tr th:only-of-type {\n",
       "        vertical-align: middle;\n",
       "    }\n",
       "\n",
       "    .dataframe tbody tr th {\n",
       "        vertical-align: top;\n",
       "    }\n",
       "\n",
       "    .dataframe thead th {\n",
       "        text-align: right;\n",
       "    }\n",
       "</style>\n",
       "<table border=\"1\" class=\"dataframe\">\n",
       "  <thead>\n",
       "    <tr style=\"text-align: right;\">\n",
       "      <th></th>\n",
       "      <th>Album</th>\n",
       "      <th>NRev</th>\n",
       "      <th>NRat</th>\n",
       "      <th>stosunek</th>\n",
       "    </tr>\n",
       "  </thead>\n",
       "  <tbody>\n",
       "    <tr>\n",
       "      <th>0</th>\n",
       "      <td>Jenny Death: The Powers That B Disc 2</td>\n",
       "      <td>30</td>\n",
       "      <td>10855</td>\n",
       "      <td>361.833333</td>\n",
       "    </tr>\n",
       "    <tr>\n",
       "      <th>1</th>\n",
       "      <td>Bury Me at Makeout Creek</td>\n",
       "      <td>19</td>\n",
       "      <td>5856</td>\n",
       "      <td>308.210526</td>\n",
       "    </tr>\n",
       "    <tr>\n",
       "      <th>2</th>\n",
       "      <td>春と修羅 (Haru to Shura)</td>\n",
       "      <td>23</td>\n",
       "      <td>6277</td>\n",
       "      <td>272.913043</td>\n",
       "    </tr>\n",
       "    <tr>\n",
       "      <th>3</th>\n",
       "      <td>Saturation</td>\n",
       "      <td>70</td>\n",
       "      <td>17629</td>\n",
       "      <td>251.842857</td>\n",
       "    </tr>\n",
       "    <tr>\n",
       "      <th>4</th>\n",
       "      <td>Saturation III</td>\n",
       "      <td>68</td>\n",
       "      <td>17118</td>\n",
       "      <td>251.735294</td>\n",
       "    </tr>\n",
       "    <tr>\n",
       "      <th>5</th>\n",
       "      <td>Scenery</td>\n",
       "      <td>24</td>\n",
       "      <td>5968</td>\n",
       "      <td>248.666667</td>\n",
       "    </tr>\n",
       "    <tr>\n",
       "      <th>6</th>\n",
       "      <td>Endless</td>\n",
       "      <td>39</td>\n",
       "      <td>8911</td>\n",
       "      <td>228.487179</td>\n",
       "    </tr>\n",
       "    <tr>\n",
       "      <th>7</th>\n",
       "      <td>Imperial</td>\n",
       "      <td>50</td>\n",
       "      <td>11271</td>\n",
       "      <td>225.420000</td>\n",
       "    </tr>\n",
       "    <tr>\n",
       "      <th>8</th>\n",
       "      <td>Saturation II</td>\n",
       "      <td>85</td>\n",
       "      <td>18322</td>\n",
       "      <td>215.552941</td>\n",
       "    </tr>\n",
       "    <tr>\n",
       "      <th>9</th>\n",
       "      <td>Bottomless Pit</td>\n",
       "      <td>102</td>\n",
       "      <td>20614</td>\n",
       "      <td>202.098039</td>\n",
       "    </tr>\n",
       "  </tbody>\n",
       "</table>\n",
       "</div>"
      ],
      "text/plain": [
       "                                   Album  NRev   NRat    stosunek\n",
       "0  Jenny Death: The Powers That B Disc 2    30  10855  361.833333\n",
       "1               Bury Me at Makeout Creek    19   5856  308.210526\n",
       "2                   春と修羅 (Haru to Shura)    23   6277  272.913043\n",
       "3                             Saturation    70  17629  251.842857\n",
       "4                         Saturation III    68  17118  251.735294\n",
       "5                                Scenery    24   5968  248.666667\n",
       "6                                Endless    39   8911  228.487179\n",
       "7                               Imperial    50  11271  225.420000\n",
       "8                          Saturation II    85  18322  215.552941\n",
       "9                         Bottomless Pit   102  20614  202.098039"
      ]
     },
     "execution_count": 8,
     "metadata": {},
     "output_type": "execute_result"
    }
   ],
   "source": [
    "df3[\"stosunek\"] = df3[\"NRat\"]/df3[\"NRev\"]\n",
    "df3.sort_values('stosunek', ascending = False, inplace = True)\n",
    "df3.head(10).reset_index(drop=True)"
   ]
  },
  {
   "cell_type": "markdown",
   "id": "dd2408a1",
   "metadata": {},
   "source": [
    "#### Z których lat pochodzi najwięcej albumów na liście najpopularniejszych wśród krytyków i najpopularniejszych wśród oceniających? \n",
    "a) Podaj 5 lat, w których wydano najwięcej albumów z listy mających liczbę recenzji większą niż Q3 (trzeci kwartyl).\n",
    "\n",
    "b) Podaj 5 lat, w których wydano najwięcej albumów z listy mających liczbę ocen większą niż Q3 (trzeci kwartyl).\n"
   ]
  },
  {
   "cell_type": "code",
   "execution_count": 9,
   "id": "46bc9df5",
   "metadata": {},
   "outputs": [],
   "source": [
    "df['year'] = pd.DatetimeIndex(df['Release Date']).year"
   ]
  },
  {
   "cell_type": "code",
   "execution_count": 10,
   "id": "daba781f",
   "metadata": {},
   "outputs": [],
   "source": [
    "df6 = df[df[\"Number of Reviews\"] > df[\"Number of Reviews\"].quantile(0.75)]"
   ]
  },
  {
   "cell_type": "code",
   "execution_count": 11,
   "id": "a06f3cd3",
   "metadata": {},
   "outputs": [
    {
     "data": {
      "text/html": [
       "<div>\n",
       "<style scoped>\n",
       "    .dataframe tbody tr th:only-of-type {\n",
       "        vertical-align: middle;\n",
       "    }\n",
       "\n",
       "    .dataframe tbody tr th {\n",
       "        vertical-align: top;\n",
       "    }\n",
       "\n",
       "    .dataframe thead th {\n",
       "        text-align: right;\n",
       "    }\n",
       "</style>\n",
       "<table border=\"1\" class=\"dataframe\">\n",
       "  <thead>\n",
       "    <tr style=\"text-align: right;\">\n",
       "      <th></th>\n",
       "      <th>year</th>\n",
       "      <th>LiczbaAlbumowWiecejNizQ3</th>\n",
       "    </tr>\n",
       "  </thead>\n",
       "  <tbody>\n",
       "    <tr>\n",
       "      <th>13</th>\n",
       "      <td>1970</td>\n",
       "      <td>43</td>\n",
       "    </tr>\n",
       "    <tr>\n",
       "      <th>14</th>\n",
       "      <td>1971</td>\n",
       "      <td>41</td>\n",
       "    </tr>\n",
       "    <tr>\n",
       "      <th>12</th>\n",
       "      <td>1969</td>\n",
       "      <td>38</td>\n",
       "    </tr>\n",
       "    <tr>\n",
       "      <th>37</th>\n",
       "      <td>1994</td>\n",
       "      <td>36</td>\n",
       "    </tr>\n",
       "    <tr>\n",
       "      <th>38</th>\n",
       "      <td>1995</td>\n",
       "      <td>34</td>\n",
       "    </tr>\n",
       "  </tbody>\n",
       "</table>\n",
       "</div>"
      ],
      "text/plain": [
       "    year  LiczbaAlbumowWiecejNizQ3\n",
       "13  1970                        43\n",
       "14  1971                        41\n",
       "12  1969                        38\n",
       "37  1994                        36\n",
       "38  1995                        34"
      ]
     },
     "execution_count": 11,
     "metadata": {},
     "output_type": "execute_result"
    }
   ],
   "source": [
    "df6.groupby([\"year\"]).agg(LiczbaAlbumowWiecejNizQ3 = ('Number of Reviews', 'count')).reset_index().sort_values(\"LiczbaAlbumowWiecejNizQ3\",ascending = False).head(5)"
   ]
  },
  {
   "cell_type": "code",
   "execution_count": 12,
   "id": "d28fab07",
   "metadata": {},
   "outputs": [],
   "source": [
    "df7 = df[df[\"Number of Ratings\"] > df[\"Number of Ratings\"].quantile(0.75)]"
   ]
  },
  {
   "cell_type": "code",
   "execution_count": 13,
   "id": "3b305e01",
   "metadata": {},
   "outputs": [
    {
     "data": {
      "text/html": [
       "<div>\n",
       "<style scoped>\n",
       "    .dataframe tbody tr th:only-of-type {\n",
       "        vertical-align: middle;\n",
       "    }\n",
       "\n",
       "    .dataframe tbody tr th {\n",
       "        vertical-align: top;\n",
       "    }\n",
       "\n",
       "    .dataframe thead th {\n",
       "        text-align: right;\n",
       "    }\n",
       "</style>\n",
       "<table border=\"1\" class=\"dataframe\">\n",
       "  <thead>\n",
       "    <tr style=\"text-align: right;\">\n",
       "      <th></th>\n",
       "      <th>year</th>\n",
       "      <th>LiczbaAlbumowWiecejNizQ3</th>\n",
       "    </tr>\n",
       "  </thead>\n",
       "  <tbody>\n",
       "    <tr>\n",
       "      <th>37</th>\n",
       "      <td>1994</td>\n",
       "      <td>41</td>\n",
       "    </tr>\n",
       "    <tr>\n",
       "      <th>14</th>\n",
       "      <td>1971</td>\n",
       "      <td>36</td>\n",
       "    </tr>\n",
       "    <tr>\n",
       "      <th>13</th>\n",
       "      <td>1970</td>\n",
       "      <td>35</td>\n",
       "    </tr>\n",
       "    <tr>\n",
       "      <th>39</th>\n",
       "      <td>1996</td>\n",
       "      <td>34</td>\n",
       "    </tr>\n",
       "    <tr>\n",
       "      <th>38</th>\n",
       "      <td>1995</td>\n",
       "      <td>33</td>\n",
       "    </tr>\n",
       "  </tbody>\n",
       "</table>\n",
       "</div>"
      ],
      "text/plain": [
       "    year  LiczbaAlbumowWiecejNizQ3\n",
       "37  1994                        41\n",
       "14  1971                        36\n",
       "13  1970                        35\n",
       "39  1996                        34\n",
       "38  1995                        33"
      ]
     },
     "execution_count": 13,
     "metadata": {},
     "output_type": "execute_result"
    }
   ],
   "source": [
    "df7.groupby([\"year\"]).agg(LiczbaAlbumowWiecejNizQ3 = ('Number of Ratings', 'count')).reset_index().sort_values(\"LiczbaAlbumowWiecejNizQ3\",ascending = False).head(5)"
   ]
  },
  {
   "cell_type": "code",
   "execution_count": 14,
   "id": "c5ad0cfb",
   "metadata": {},
   "outputs": [],
   "source": [
    "import matplotlib.pyplot as plt\n",
    "import seaborn as sns"
   ]
  },
  {
   "cell_type": "markdown",
   "id": "da9a51d3",
   "metadata": {},
   "source": [
    "## Zadanie 2 - wizualizacja (3 pkt)\n",
    "- Za pomocą pakietów `matplotlib` i `seaborn` stwórz dwa wykresy. \n",
    "- Wykorzystaj funkcję `matplotlib.pyplot.subplots`, by umieścić je we wspólnej figurze. \n",
    "- Jeden z wykresów ma opierać się na wynikach z zadania 1 - wizualizować odpowiedź na wybrane pytanie. \n",
    "- Drugi wykres może mieć dowolną tematykę, ale ma być powiązany z wcześniejszym, tak by figura mogła mieć wspólny tytuł."
   ]
  },
  {
   "cell_type": "code",
   "execution_count": 15,
   "id": "31c5d1a0",
   "metadata": {},
   "outputs": [
    {
     "data": {
      "image/png": "[encoded data removed]",
      "text/plain": [
       "<Figure size 936x360 with 2 Axes>"
      ]
     },
     "metadata": {
      "needs_background": "light"
     },
     "output_type": "display_data"
    }
   ],
   "source": [
    "fig,axs = plt.subplots(1,2, figsize = (13,5))\n",
    "fig.suptitle(\"TOP ARTYŚCI\",fontsize = 20)\n",
    "\n",
    "\n",
    "sns.barplot(ax = axs[0],data=df2, y = \"Artist Name\", x ='Average Rating', orient = 'h')\n",
    "axs[0].title.set_text(\"Top 10 artystow z ponad 5 albumami\")\n",
    "plt.tight_layout()\n",
    "sns.barplot(ax = axs[1],data=df5, y = \"Artist Name\", x ='Max', orient = 'h')\n",
    "axs[1].title.set_text(\"Top 10 artystow z najlepiej ocenianymi albumami\")\n",
    "plt.tight_layout()\n"
   ]
  },
  {
   "cell_type": "markdown",
   "id": "7467b52d",
   "metadata": {},
   "source": [
    "## * Zadanie 3 - bonusowe (1 pkt)"
   ]
  },
  {
   "cell_type": "markdown",
   "id": "ce3a0849",
   "metadata": {},
   "source": [
    "Zapisz wygenerowaną figurę do formatu `.pgf` i załącz w raporcie wygenerowanym w `LaTeX` tak, by na wykresie zawierał się klikalny link do strony `www.rateyourmusic.com` (np. w tytule) - można zrobić to ręcznie, edytując zapisany plik `.pgf`. Przykład w katalogu z pracą domową w pliku `pgf_example.pdf` (klikalny tytuł i elementy legendy).  \n",
    "\n",
    "Załącz w rozwiązaniu wygenerowany plik `pdf`. "
   ]
  },
  {
   "cell_type": "code",
   "execution_count": null,
   "id": "758b5423",
   "metadata": {},
   "outputs": [],
   "source": []
  }
 ],
 "metadata": {
  "kernelspec": {
   "display_name": "Python 3 (ipykernel)",
   "language": "python",
   "name": "python3"
  },
  "language_info": {
   "codemirror_mode": {
    "name": "ipython",
    "version": 3
   },
   "file_extension": ".py",
   "mimetype": "text/x-python",
   "name": "python",
   "nbconvert_exporter": "python",
   "pygments_lexer": "ipython3",
   "version": "3.9.4"
  }
 },
 "nbformat": 4,
 "nbformat_minor": 5
}
