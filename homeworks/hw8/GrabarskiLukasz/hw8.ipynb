{
 "cells": [
  {
   "cell_type": "markdown",
   "id": "caa75dbf",
   "metadata": {},
   "source": [
    "# Praca domowa nr 8"
   ]
  },
  {
   "cell_type": "markdown",
   "id": "b5401c27",
   "metadata": {},
   "source": [
    "- Dane to tej pracy domowej to lista top 5000 albumów muzycznych wg portalu [rateyourmusic.com](https://rateyourmusic.com). Dataset wraz z opisem można znaleźć na [Kaggle'u](https://www.kaggle.com/datasets/michaelbryantds/top-5000-albums-of-all-time-rateyourmusiccom). \n",
    "- Dane znajdują się też w katalogu z pracą domową - nazwa pliku to `rym_top5000.csv`.  "
   ]
  },
  {
   "cell_type": "markdown",
   "id": "4f2dc2f5",
   "metadata": {},
   "source": [
    "## Zadanie 1 - `numpy` + `pandas` (2 pkt)\n",
    "Używając funkcji z pakietów `numpy` oraz `pandas` odpowiedz na poniższe pytania dotyczące zbioru danych o albumach muzycznych."
   ]
  },
  {
   "cell_type": "code",
   "execution_count": 307,
   "id": "7c1befd1",
   "metadata": {},
   "outputs": [],
   "source": [
    "import numpy as np\n",
    "import pandas as pd"
   ]
  },
  {
   "cell_type": "code",
   "execution_count": 308,
   "id": "227cdfef",
   "metadata": {},
   "outputs": [],
   "source": [
    "df = pd.read_csv(\"rym_top5000.csv\")"
   ]
  },
  {
   "cell_type": "code",
   "execution_count": 309,
   "id": "64d99c26",
   "metadata": {},
   "outputs": [
    {
     "data": {
      "text/html": [
       "<div>\n",
       "<style scoped>\n",
       "    .dataframe tbody tr th:only-of-type {\n",
       "        vertical-align: middle;\n",
       "    }\n",
       "\n",
       "    .dataframe tbody tr th {\n",
       "        vertical-align: top;\n",
       "    }\n",
       "\n",
       "    .dataframe thead th {\n",
       "        text-align: right;\n",
       "    }\n",
       "</style>\n",
       "<table border=\"1\" class=\"dataframe\">\n",
       "  <thead>\n",
       "    <tr style=\"text-align: right;\">\n",
       "      <th></th>\n",
       "      <th>Ranking</th>\n",
       "      <th>Album</th>\n",
       "      <th>Artist Name</th>\n",
       "      <th>Release Date</th>\n",
       "      <th>Genres</th>\n",
       "      <th>Descriptors</th>\n",
       "      <th>Average Rating</th>\n",
       "      <th>Number of Ratings</th>\n",
       "      <th>Number of Reviews</th>\n",
       "    </tr>\n",
       "  </thead>\n",
       "  <tbody>\n",
       "    <tr>\n",
       "      <th>0</th>\n",
       "      <td>1.0</td>\n",
       "      <td>OK Computer</td>\n",
       "      <td>Radiohead</td>\n",
       "      <td>16 June 1997</td>\n",
       "      <td>Alternative Rock, Art Rock</td>\n",
       "      <td>melancholic, anxious, futuristic, alienation, ...</td>\n",
       "      <td>4.23</td>\n",
       "      <td>70,382</td>\n",
       "      <td>1531</td>\n",
       "    </tr>\n",
       "    <tr>\n",
       "      <th>1</th>\n",
       "      <td>2.0</td>\n",
       "      <td>Wish You Were Here</td>\n",
       "      <td>Pink Floyd</td>\n",
       "      <td>12 September 1975</td>\n",
       "      <td>Progressive Rock, Art Rock</td>\n",
       "      <td>melancholic, atmospheric, progressive, male vo...</td>\n",
       "      <td>4.29</td>\n",
       "      <td>48,662</td>\n",
       "      <td>983</td>\n",
       "    </tr>\n",
       "    <tr>\n",
       "      <th>2</th>\n",
       "      <td>3.0</td>\n",
       "      <td>In the Court of the Crimson King</td>\n",
       "      <td>King Crimson</td>\n",
       "      <td>10 October 1969</td>\n",
       "      <td>Progressive Rock, Art Rock</td>\n",
       "      <td>fantasy, epic, progressive, philosophical, com...</td>\n",
       "      <td>4.30</td>\n",
       "      <td>44,943</td>\n",
       "      <td>870</td>\n",
       "    </tr>\n",
       "    <tr>\n",
       "      <th>3</th>\n",
       "      <td>4.0</td>\n",
       "      <td>Kid A</td>\n",
       "      <td>Radiohead</td>\n",
       "      <td>3 October 2000</td>\n",
       "      <td>Art Rock, Experimental Rock, Electronic</td>\n",
       "      <td>cold, melancholic, futuristic, atmospheric, an...</td>\n",
       "      <td>4.21</td>\n",
       "      <td>58,590</td>\n",
       "      <td>734</td>\n",
       "    </tr>\n",
       "    <tr>\n",
       "      <th>4</th>\n",
       "      <td>5.0</td>\n",
       "      <td>To Pimp a Butterfly</td>\n",
       "      <td>Kendrick Lamar</td>\n",
       "      <td>15 March 2015</td>\n",
       "      <td>Conscious Hip Hop, West Coast Hip Hop, Jazz Rap</td>\n",
       "      <td>political, conscious, poetic, protest, concept...</td>\n",
       "      <td>4.27</td>\n",
       "      <td>44,206</td>\n",
       "      <td>379</td>\n",
       "    </tr>\n",
       "  </tbody>\n",
       "</table>\n",
       "</div>"
      ],
      "text/plain": [
       "   Ranking                             Album     Artist Name  \\\n",
       "0      1.0                       OK Computer       Radiohead   \n",
       "1      2.0                Wish You Were Here      Pink Floyd   \n",
       "2      3.0  In the Court of the Crimson King    King Crimson   \n",
       "3      4.0                             Kid A       Radiohead   \n",
       "4      5.0               To Pimp a Butterfly  Kendrick Lamar   \n",
       "\n",
       "        Release Date                                           Genres  \\\n",
       "0       16 June 1997                       Alternative Rock, Art Rock   \n",
       "1  12 September 1975                       Progressive Rock, Art Rock   \n",
       "2    10 October 1969                       Progressive Rock, Art Rock   \n",
       "3     3 October 2000          Art Rock, Experimental Rock, Electronic   \n",
       "4      15 March 2015  Conscious Hip Hop, West Coast Hip Hop, Jazz Rap   \n",
       "\n",
       "                                         Descriptors  Average Rating  \\\n",
       "0  melancholic, anxious, futuristic, alienation, ...            4.23   \n",
       "1  melancholic, atmospheric, progressive, male vo...            4.29   \n",
       "2  fantasy, epic, progressive, philosophical, com...            4.30   \n",
       "3  cold, melancholic, futuristic, atmospheric, an...            4.21   \n",
       "4  political, conscious, poetic, protest, concept...            4.27   \n",
       "\n",
       "  Number of Ratings  Number of Reviews  \n",
       "0            70,382               1531  \n",
       "1            48,662                983  \n",
       "2            44,943                870  \n",
       "3            58,590                734  \n",
       "4            44,206                379  "
      ]
     },
     "execution_count": 309,
     "metadata": {},
     "output_type": "execute_result"
    }
   ],
   "source": [
    "df.head()"
   ]
  },
  {
   "cell_type": "markdown",
   "id": "9db9ab53",
   "metadata": {},
   "source": [
    "#### Jacy artyści z ponad 5 albumami na liście mają największą medianę ocen dla swoich albumów? Podaj top 10."
   ]
  },
  {
   "cell_type": "code",
   "execution_count": 310,
   "id": "eea99bae",
   "metadata": {},
   "outputs": [
    {
     "data": {
      "text/plain": [
       "Artist Name\n",
       "David Bowie           4.050\n",
       "The Beatles           4.045\n",
       "King Crimson          3.970\n",
       "The Rolling Stones    3.965\n",
       "Black Sabbath         3.950\n",
       "Led Zeppelin          3.940\n",
       "Pink Floyd            3.910\n",
       "Death                 3.905\n",
       "John Coltrane         3.905\n",
       "Bob Dylan             3.890\n",
       "Name: Average Rating, dtype: float64"
      ]
     },
     "execution_count": 310,
     "metadata": {},
     "output_type": "execute_result"
    }
   ],
   "source": [
    "artists = df['Artist Name'].value_counts().to_frame('count')\n",
    "artists['Artist Name'] = artists.index\n",
    "artists = artists.query('count>5')\n",
    "myDf = pd.merge(df, artists,\n",
    "            how = 'inner',\n",
    "            on = 'Artist Name') \n",
    "myDf.groupby(by = 'Artist Name').agg('Average Rating').median().sort_values(ascending=False).head(10)\n"
   ]
  },
  {
   "cell_type": "markdown",
   "id": "5b24ae18",
   "metadata": {},
   "source": [
    "#### Jacy artyści mają największą różnicę między najgorszym i najlepszym średnim ratingiem dla swojego albumu? Podaj top 10  oraz najwyższą i najniższą ocenę dla każdego z tych artystów. "
   ]
  },
  {
   "cell_type": "code",
   "execution_count": 311,
   "id": "239a5b5e",
   "metadata": {},
   "outputs": [
    {
     "data": {
      "text/html": [
       "<div>\n",
       "<style scoped>\n",
       "    .dataframe tbody tr th:only-of-type {\n",
       "        vertical-align: middle;\n",
       "    }\n",
       "\n",
       "    .dataframe tbody tr th {\n",
       "        vertical-align: top;\n",
       "    }\n",
       "\n",
       "    .dataframe thead th {\n",
       "        text-align: right;\n",
       "    }\n",
       "</style>\n",
       "<table border=\"1\" class=\"dataframe\">\n",
       "  <thead>\n",
       "    <tr style=\"text-align: right;\">\n",
       "      <th></th>\n",
       "      <th>min</th>\n",
       "      <th>max</th>\n",
       "    </tr>\n",
       "    <tr>\n",
       "      <th>Artist Name</th>\n",
       "      <th></th>\n",
       "      <th></th>\n",
       "    </tr>\n",
       "  </thead>\n",
       "  <tbody>\n",
       "    <tr>\n",
       "      <th>Kendrick Lamar</th>\n",
       "      <td>3.52</td>\n",
       "      <td>4.27</td>\n",
       "    </tr>\n",
       "    <tr>\n",
       "      <th>The Beatles</th>\n",
       "      <td>3.55</td>\n",
       "      <td>4.25</td>\n",
       "    </tr>\n",
       "    <tr>\n",
       "      <th>Pink Floyd</th>\n",
       "      <td>3.60</td>\n",
       "      <td>4.29</td>\n",
       "    </tr>\n",
       "    <tr>\n",
       "      <th>My Bloody Valentine</th>\n",
       "      <td>3.58</td>\n",
       "      <td>4.24</td>\n",
       "    </tr>\n",
       "    <tr>\n",
       "      <th>King Crimson</th>\n",
       "      <td>3.67</td>\n",
       "      <td>4.30</td>\n",
       "    </tr>\n",
       "    <tr>\n",
       "      <th>John Coltrane</th>\n",
       "      <td>3.70</td>\n",
       "      <td>4.30</td>\n",
       "    </tr>\n",
       "    <tr>\n",
       "      <th>Radiohead</th>\n",
       "      <td>3.66</td>\n",
       "      <td>4.23</td>\n",
       "    </tr>\n",
       "    <tr>\n",
       "      <th>Miles Davis</th>\n",
       "      <td>3.69</td>\n",
       "      <td>4.23</td>\n",
       "    </tr>\n",
       "    <tr>\n",
       "      <th>The Cure</th>\n",
       "      <td>3.63</td>\n",
       "      <td>4.17</td>\n",
       "    </tr>\n",
       "    <tr>\n",
       "      <th>Kanye West</th>\n",
       "      <td>3.54</td>\n",
       "      <td>4.07</td>\n",
       "    </tr>\n",
       "  </tbody>\n",
       "</table>\n",
       "</div>"
      ],
      "text/plain": [
       "                      min   max\n",
       "Artist Name                    \n",
       "Kendrick Lamar       3.52  4.27\n",
       "The Beatles          3.55  4.25\n",
       "Pink Floyd           3.60  4.29\n",
       "My Bloody Valentine  3.58  4.24\n",
       "King Crimson         3.67  4.30\n",
       "John Coltrane        3.70  4.30\n",
       "Radiohead            3.66  4.23\n",
       "Miles Davis          3.69  4.23\n",
       "The Cure             3.63  4.17\n",
       "Kanye West           3.54  4.07"
      ]
     },
     "execution_count": 311,
     "metadata": {},
     "output_type": "execute_result"
    }
   ],
   "source": [
    "myDf = df.groupby(by = 'Artist Name')['Average Rating'].describe()\n",
    "myDf['roznica'] = myDf['max'] - myDf['min']\n",
    "myDf.sort_values('roznica', ascending=False)[['min','max']].head(10)"
   ]
  },
  {
   "cell_type": "markdown",
   "id": "c3b4419a",
   "metadata": {},
   "source": [
    "#### Podaj top 10 albumów o największym stosunku liczby ocen do liczby recenzji. Weź pod uwagę tylko albumy o przynajmniej 5000 ocenach i 15 recenzjach."
   ]
  },
  {
   "cell_type": "code",
   "execution_count": 312,
   "id": "0893f98e",
   "metadata": {},
   "outputs": [
    {
     "name": "stderr",
     "output_type": "stream",
     "text": [
      "C:\\Users\\lukas\\AppData\\Local\\Temp\\ipykernel_10296\\592847723.py:4: SettingWithCopyWarning: \n",
      "A value is trying to be set on a copy of a slice from a DataFrame.\n",
      "Try using .loc[row_indexer,col_indexer] = value instead\n",
      "\n",
      "See the caveats in the documentation: https://pandas.pydata.org/pandas-docs/stable/user_guide/indexing.html#returning-a-view-versus-a-copy\n",
      "  myDf['iloraz'] = myDf['Number of Ratings repaired'] / myDf['Number of Reviews']\n"
     ]
    },
    {
     "data": {
      "text/plain": [
       "353     Jenny Death: The Powers That B Disc 2\n",
       "1695                 Bury Me at Makeout Creek\n",
       "3733                     春と修羅 (Haru to Shura)\n",
       "4949                               Saturation\n",
       "1036                           Saturation III\n",
       "2489                                  Scenery\n",
       "643                                   Endless\n",
       "2869                                 Imperial\n",
       "950                             Saturation II\n",
       "439                            Bottomless Pit\n",
       "Name: Album, dtype: object"
      ]
     },
     "execution_count": 312,
     "metadata": {},
     "output_type": "execute_result"
    }
   ],
   "source": [
    "df['Number of Ratings repaired'] = df['Number of Ratings'].str.replace(',', '').astype(int)\n",
    "df\n",
    "myDf = df.query('`Number of Ratings repaired` >= 5000 and `Number of Reviews` >= 15' )\n",
    "myDf['iloraz'] = myDf['Number of Ratings repaired'] / myDf['Number of Reviews']\n",
    "myDf.sort_values('iloraz', ascending = False)['Album'].head(10)"
   ]
  },
  {
   "cell_type": "markdown",
   "id": "dd2408a1",
   "metadata": {},
   "source": [
    "#### Z których lat pochodzi najwięcej albumów na liście najpopularniejszych wśród krytyków i najpopularniejszych wśród oceniających? \n",
    "a) Podaj 5 lat, w których wydano najwięcej albumów z listy mających liczbę recenzji większą niż Q3 (trzeci kwartyl).\n",
    "\n",
    "b) Podaj 5 lat, w których wydano najwięcej albumów z listy mających liczbę ocen większą niż Q3 (trzeci kwartyl).\n"
   ]
  },
  {
   "cell_type": "code",
   "execution_count": 315,
   "id": "dc06bfbf",
   "metadata": {},
   "outputs": [
    {
     "name": "stdout",
     "output_type": "stream",
     "text": [
      "       Number of Reviews  Number of Ratings repaired\n",
      "count        5000.000000                 5000.000000\n",
      "mean           71.449200                 4084.510600\n",
      "std           108.473786                 6001.340235\n",
      "min             0.000000                  260.000000\n",
      "25%            14.000000                  752.750000\n",
      "50%            34.000000                 1820.000000\n",
      "75%            82.250000                 4719.250000\n",
      "max          1549.000000                70382.000000\n",
      "year\n",
      "1970    43\n",
      "1971    41\n",
      "1969    38\n",
      "1994    36\n",
      "1995    34\n",
      "Name: year, dtype: int64\n"
     ]
    }
   ],
   "source": [
    "df['year'] = pd.DatetimeIndex(df['Release Date']).year\n",
    "print(df[['Number of Reviews','Number of Ratings repaired']].describe())\n",
    "#82.250000\t4719.250000\n",
    "#mean 4084.510600\n",
    "#recenzje\n",
    "print(df.query('`Number of Reviews` > 82.25').groupby(by = 'year')['year'].count().sort_values(ascending = False).head(5))\n",
    "#oceny\n",
    "myDF = df.query('`Number of Ratings repaired` > 4719.25').groupby(by = 'year')['Artist Name'].count().sort_values(ascending = False).to_frame()\n",
    "myDF = myDF.reset_index()\n"
   ]
  },
  {
   "cell_type": "markdown",
   "id": "da9a51d3",
   "metadata": {},
   "source": [
    "## Zadanie 2 - wizualizacja (3 pkt)\n",
    "- Za pomocą pakietów `matplotlib` i `seaborn` stwórz dwa wykresy. \n",
    "- Wykorzystaj funkcję `matplotlib.pyplot.subplots`, by umieścić je we wspólnej figurze. \n",
    "- Jeden z wykresów ma opierać się na wynikach z zadania 1 - wizualizować odpowiedź na wybrane pytanie. \n",
    "- Drugi wykres może mieć dowolną tematykę, ale ma być powiązany z wcześniejszym, tak by figura mogła mieć wspólny tytuł."
   ]
  },
  {
   "cell_type": "code",
   "execution_count": 316,
   "id": "4ada72e4",
   "metadata": {},
   "outputs": [],
   "source": [
    "import matplotlib.pyplot as plt"
   ]
  },
  {
   "cell_type": "code",
   "execution_count": null,
   "id": "966c0520",
   "metadata": {},
   "outputs": [],
   "source": []
  },
  {
   "cell_type": "code",
   "execution_count": 317,
   "id": "fec3a6aa",
   "metadata": {},
   "outputs": [],
   "source": [
    "myDF2 = df.groupby(by = 'year')['Number of Ratings repaired'].mean().to_frame().reset_index()\n",
    "myDF3 = pd.merge(df, myDF2,\n",
    "             how = 'outer',\n",
    "                on = 'year')\n",
    "myDF3 = myDF3.query('`Number of Ratings repaired_x` > `Number of Ratings repaired_y`').groupby(by = 'year')['Album'].count().sort_values(ascending = False).to_frame().reset_index()"
   ]
  },
  {
   "cell_type": "code",
   "execution_count": 318,
   "id": "bede1658",
   "metadata": {},
   "outputs": [
    {
     "data": {
      "text/html": [
       "<div>\n",
       "<style scoped>\n",
       "    .dataframe tbody tr th:only-of-type {\n",
       "        vertical-align: middle;\n",
       "    }\n",
       "\n",
       "    .dataframe tbody tr th {\n",
       "        vertical-align: top;\n",
       "    }\n",
       "\n",
       "    .dataframe thead th {\n",
       "        text-align: right;\n",
       "    }\n",
       "</style>\n",
       "<table border=\"1\" class=\"dataframe\">\n",
       "  <thead>\n",
       "    <tr style=\"text-align: right;\">\n",
       "      <th></th>\n",
       "      <th>year</th>\n",
       "      <th>Artist Name</th>\n",
       "      <th>Album</th>\n",
       "    </tr>\n",
       "  </thead>\n",
       "  <tbody>\n",
       "    <tr>\n",
       "      <th>0</th>\n",
       "      <td>1994</td>\n",
       "      <td>41</td>\n",
       "      <td>41</td>\n",
       "    </tr>\n",
       "    <tr>\n",
       "      <th>1</th>\n",
       "      <td>1971</td>\n",
       "      <td>36</td>\n",
       "      <td>40</td>\n",
       "    </tr>\n",
       "    <tr>\n",
       "      <th>2</th>\n",
       "      <td>1970</td>\n",
       "      <td>35</td>\n",
       "      <td>40</td>\n",
       "    </tr>\n",
       "    <tr>\n",
       "      <th>3</th>\n",
       "      <td>1996</td>\n",
       "      <td>34</td>\n",
       "      <td>37</td>\n",
       "    </tr>\n",
       "    <tr>\n",
       "      <th>4</th>\n",
       "      <td>1995</td>\n",
       "      <td>33</td>\n",
       "      <td>37</td>\n",
       "    </tr>\n",
       "    <tr>\n",
       "      <th>...</th>\n",
       "      <td>...</td>\n",
       "      <td>...</td>\n",
       "      <td>...</td>\n",
       "    </tr>\n",
       "    <tr>\n",
       "      <th>60</th>\n",
       "      <td>1960</td>\n",
       "      <td>3</td>\n",
       "      <td>5</td>\n",
       "    </tr>\n",
       "    <tr>\n",
       "      <th>61</th>\n",
       "      <td>1963</td>\n",
       "      <td>2</td>\n",
       "      <td>7</td>\n",
       "    </tr>\n",
       "    <tr>\n",
       "      <th>62</th>\n",
       "      <td>1961</td>\n",
       "      <td>2</td>\n",
       "      <td>9</td>\n",
       "    </tr>\n",
       "    <tr>\n",
       "      <th>63</th>\n",
       "      <td>1958</td>\n",
       "      <td>2</td>\n",
       "      <td>8</td>\n",
       "    </tr>\n",
       "    <tr>\n",
       "      <th>64</th>\n",
       "      <td>1955</td>\n",
       "      <td>1</td>\n",
       "      <td>2</td>\n",
       "    </tr>\n",
       "  </tbody>\n",
       "</table>\n",
       "<p>65 rows × 3 columns</p>\n",
       "</div>"
      ],
      "text/plain": [
       "    year  Artist Name  Album\n",
       "0   1994           41     41\n",
       "1   1971           36     40\n",
       "2   1970           35     40\n",
       "3   1996           34     37\n",
       "4   1995           33     37\n",
       "..   ...          ...    ...\n",
       "60  1960            3      5\n",
       "61  1963            2      7\n",
       "62  1961            2      9\n",
       "63  1958            2      8\n",
       "64  1955            1      2\n",
       "\n",
       "[65 rows x 3 columns]"
      ]
     },
     "execution_count": 318,
     "metadata": {},
     "output_type": "execute_result"
    }
   ],
   "source": [
    "myDF = pd.merge(myDF, myDF3,\n",
    "             how = 'inner',\n",
    "            on = 'year')\n",
    "myDF"
   ]
  },
  {
   "cell_type": "code",
   "execution_count": 334,
   "id": "3c4c2735",
   "metadata": {},
   "outputs": [
    {
     "data": {
      "image/png": "[encoded data removed]",
      "text/plain": [
       "<Figure size 648x216 with 2 Axes>"
      ]
     },
     "metadata": {
      "needs_background": "light"
     },
     "output_type": "display_data"
    }
   ],
   "source": [
    "myDF = myDF.sort_values('Artist Name', ascending = False).head(5)\n",
    "myDF['year'] = myDF['year'].astype(str)\n",
    "fig, ax = plt.subplots(1,2,figsize=(9, 3), sharey=True)\n",
    "\n",
    "ax[0].bar(myDF['year'], myDF['Artist Name'],  label = 'Q3')\n",
    "ax[1].bar(myDF['year'], myDF['Album'], label = 'Powyżej średniej')\n",
    "\n",
    "fig.suptitle('Liczba recenzji większa niż Q3, a liczba recenzji powyżej średniej danego roku')\n",
    "\n",
    "fig.tight_layout()\n",
    "\n",
    "plt.show()"
   ]
  },
  {
   "cell_type": "markdown",
   "id": "7467b52d",
   "metadata": {},
   "source": [
    "## * Zadanie 3 - bonusowe (1 pkt)"
   ]
  },
  {
   "cell_type": "markdown",
   "id": "ce3a0849",
   "metadata": {},
   "source": [
    "Zapisz wygenerowaną figurę do formatu `.pgf` i załącz w raporcie wygenerowanym w `LaTeX` tak, by na wykresie zawierał się klikalny link do strony `www.rateyourmusic.com` (np. w tytule) - można zrobić to ręcznie, edytując zapisany plik `.pgf`. Przykład w katalogu z pracą domową w pliku `pgf_example.pdf` (klikalny tytuł i elementy legendy).  \n",
    "\n",
    "Załącz w rozwiązaniu wygenerowany plik `pdf`. "
   ]
  },
  {
   "cell_type": "code",
   "execution_count": null,
   "id": "758b5423",
   "metadata": {},
   "outputs": [],
   "source": []
  }
 ],
 "metadata": {
  "kernelspec": {
   "display_name": "Python 3 (ipykernel)",
   "language": "python",
   "name": "python3"
  },
  "language_info": {
   "codemirror_mode": {
    "name": "ipython",
    "version": 3
   },
   "file_extension": ".py",
   "mimetype": "text/x-python",
   "name": "python",
   "nbconvert_exporter": "python",
   "pygments_lexer": "ipython3",
   "version": "3.8.8"
  }
 },
 "nbformat": 4,
 "nbformat_minor": 5
}
