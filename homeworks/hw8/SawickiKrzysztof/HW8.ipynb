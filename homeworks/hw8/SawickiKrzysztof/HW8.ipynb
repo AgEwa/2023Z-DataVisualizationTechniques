{
 "cells": [
  {
   "cell_type": "markdown",
   "id": "caa75dbf",
   "metadata": {},
   "source": [
    "# Praca domowa nr 8 Krzysztof Sawicki"
   ]
  },
  {
   "cell_type": "markdown",
   "id": "b5401c27",
   "metadata": {},
   "source": [
    "- Dane to tej pracy domowej to lista top 5000 albumów muzycznych wg portalu [rateyourmusic.com](https://rateyourmusic.com). Dataset wraz z opisem można znaleźć na [Kaggle'u](https://www.kaggle.com/datasets/michaelbryantds/top-5000-albums-of-all-time-rateyourmusiccom).  "
   ]
  },
  {
   "cell_type": "markdown",
   "id": "4f2dc2f5",
   "metadata": {},
   "source": [
    "## Zadanie 1 "
   ]
  },
  {
   "cell_type": "code",
   "execution_count": 13,
   "id": "7c1befd1",
   "metadata": {},
   "outputs": [],
   "source": [
    "import numpy as np\n",
    "import pandas as pd"
   ]
  },
  {
   "cell_type": "code",
   "execution_count": 14,
   "id": "227cdfef",
   "metadata": {},
   "outputs": [],
   "source": [
    "df = pd.read_csv(\"rym_top5000.csv\")"
   ]
  },
  {
   "cell_type": "code",
   "execution_count": 15,
   "id": "8947fca4",
   "metadata": {},
   "outputs": [],
   "source": [
    "df[\"Number of Ratings\"] = df[\"Number of Ratings\"].apply(lambda x: str(x.replace(',','')))"
   ]
  },
  {
   "cell_type": "code",
   "execution_count": 16,
   "id": "64d99c26",
   "metadata": {},
   "outputs": [
    {
     "data": {
      "text/html": [
       "<div>\n",
       "<style scoped>\n",
       "    .dataframe tbody tr th:only-of-type {\n",
       "        vertical-align: middle;\n",
       "    }\n",
       "\n",
       "    .dataframe tbody tr th {\n",
       "        vertical-align: top;\n",
       "    }\n",
       "\n",
       "    .dataframe thead th {\n",
       "        text-align: right;\n",
       "    }\n",
       "</style>\n",
       "<table border=\"1\" class=\"dataframe\">\n",
       "  <thead>\n",
       "    <tr style=\"text-align: right;\">\n",
       "      <th></th>\n",
       "      <th>Ranking</th>\n",
       "      <th>Album</th>\n",
       "      <th>Artist Name</th>\n",
       "      <th>Release Date</th>\n",
       "      <th>Genres</th>\n",
       "      <th>Descriptors</th>\n",
       "      <th>Average Rating</th>\n",
       "      <th>Number of Ratings</th>\n",
       "      <th>Number of Reviews</th>\n",
       "    </tr>\n",
       "  </thead>\n",
       "  <tbody>\n",
       "    <tr>\n",
       "      <th>0</th>\n",
       "      <td>1.0</td>\n",
       "      <td>OK Computer</td>\n",
       "      <td>Radiohead</td>\n",
       "      <td>16 June 1997</td>\n",
       "      <td>Alternative Rock, Art Rock</td>\n",
       "      <td>melancholic, anxious, futuristic, alienation, ...</td>\n",
       "      <td>4.23</td>\n",
       "      <td>70382</td>\n",
       "      <td>1531</td>\n",
       "    </tr>\n",
       "    <tr>\n",
       "      <th>1</th>\n",
       "      <td>2.0</td>\n",
       "      <td>Wish You Were Here</td>\n",
       "      <td>Pink Floyd</td>\n",
       "      <td>12 September 1975</td>\n",
       "      <td>Progressive Rock, Art Rock</td>\n",
       "      <td>melancholic, atmospheric, progressive, male vo...</td>\n",
       "      <td>4.29</td>\n",
       "      <td>48662</td>\n",
       "      <td>983</td>\n",
       "    </tr>\n",
       "    <tr>\n",
       "      <th>2</th>\n",
       "      <td>3.0</td>\n",
       "      <td>In the Court of the Crimson King</td>\n",
       "      <td>King Crimson</td>\n",
       "      <td>10 October 1969</td>\n",
       "      <td>Progressive Rock, Art Rock</td>\n",
       "      <td>fantasy, epic, progressive, philosophical, com...</td>\n",
       "      <td>4.30</td>\n",
       "      <td>44943</td>\n",
       "      <td>870</td>\n",
       "    </tr>\n",
       "    <tr>\n",
       "      <th>3</th>\n",
       "      <td>4.0</td>\n",
       "      <td>Kid A</td>\n",
       "      <td>Radiohead</td>\n",
       "      <td>3 October 2000</td>\n",
       "      <td>Art Rock, Experimental Rock, Electronic</td>\n",
       "      <td>cold, melancholic, futuristic, atmospheric, an...</td>\n",
       "      <td>4.21</td>\n",
       "      <td>58590</td>\n",
       "      <td>734</td>\n",
       "    </tr>\n",
       "    <tr>\n",
       "      <th>4</th>\n",
       "      <td>5.0</td>\n",
       "      <td>To Pimp a Butterfly</td>\n",
       "      <td>Kendrick Lamar</td>\n",
       "      <td>15 March 2015</td>\n",
       "      <td>Conscious Hip Hop, West Coast Hip Hop, Jazz Rap</td>\n",
       "      <td>political, conscious, poetic, protest, concept...</td>\n",
       "      <td>4.27</td>\n",
       "      <td>44206</td>\n",
       "      <td>379</td>\n",
       "    </tr>\n",
       "  </tbody>\n",
       "</table>\n",
       "</div>"
      ],
      "text/plain": [
       "   Ranking                             Album     Artist Name  \\\n",
       "0      1.0                       OK Computer       Radiohead   \n",
       "1      2.0                Wish You Were Here      Pink Floyd   \n",
       "2      3.0  In the Court of the Crimson King    King Crimson   \n",
       "3      4.0                             Kid A       Radiohead   \n",
       "4      5.0               To Pimp a Butterfly  Kendrick Lamar   \n",
       "\n",
       "        Release Date                                           Genres  \\\n",
       "0       16 June 1997                       Alternative Rock, Art Rock   \n",
       "1  12 September 1975                       Progressive Rock, Art Rock   \n",
       "2    10 October 1969                       Progressive Rock, Art Rock   \n",
       "3     3 October 2000          Art Rock, Experimental Rock, Electronic   \n",
       "4      15 March 2015  Conscious Hip Hop, West Coast Hip Hop, Jazz Rap   \n",
       "\n",
       "                                         Descriptors  Average Rating  \\\n",
       "0  melancholic, anxious, futuristic, alienation, ...            4.23   \n",
       "1  melancholic, atmospheric, progressive, male vo...            4.29   \n",
       "2  fantasy, epic, progressive, philosophical, com...            4.30   \n",
       "3  cold, melancholic, futuristic, atmospheric, an...            4.21   \n",
       "4  political, conscious, poetic, protest, concept...            4.27   \n",
       "\n",
       "  Number of Ratings  Number of Reviews  \n",
       "0             70382               1531  \n",
       "1             48662                983  \n",
       "2             44943                870  \n",
       "3             58590                734  \n",
       "4             44206                379  "
      ]
     },
     "execution_count": 16,
     "metadata": {},
     "output_type": "execute_result"
    }
   ],
   "source": [
    "df.head()"
   ]
  },
  {
   "cell_type": "markdown",
   "id": "9db9ab53",
   "metadata": {},
   "source": [
    "#### Jacy artyści z ponad 5 albumami na liście mają największą medianę ocen dla swoich albumów? Podaj top 10."
   ]
  },
  {
   "cell_type": "code",
   "execution_count": 17,
   "id": "eea99bae",
   "metadata": {},
   "outputs": [],
   "source": [
    "artysci = df.groupby(\"Artist Name\").size().reset_index().rename(columns = {0: \"n\"})\n",
    "artysci = artysci.loc[artysci[\"n\"] >5,[\"Artist Name\"]]\n",
    "df1 = pd.merge(df, artysci, how='inner', left_on='Artist Name', right_on='Artist Name')\n",
    "df1 = df1[[\"Artist Name\",\"Average Rating\"]].groupby(\"Artist Name\").median().reset_index()\n",
    "df1 = df1.sort_values([\"Average Rating\"], ascending= False).reset_index(drop = True).head(10)"
   ]
  },
  {
   "cell_type": "markdown",
   "id": "76dbff47",
   "metadata": {},
   "source": [
    "Odpowiedź:"
   ]
  },
  {
   "cell_type": "code",
   "execution_count": 18,
   "id": "616d3064",
   "metadata": {},
   "outputs": [
    {
     "data": {
      "text/html": [
       "<div>\n",
       "<style scoped>\n",
       "    .dataframe tbody tr th:only-of-type {\n",
       "        vertical-align: middle;\n",
       "    }\n",
       "\n",
       "    .dataframe tbody tr th {\n",
       "        vertical-align: top;\n",
       "    }\n",
       "\n",
       "    .dataframe thead th {\n",
       "        text-align: right;\n",
       "    }\n",
       "</style>\n",
       "<table border=\"1\" class=\"dataframe\">\n",
       "  <thead>\n",
       "    <tr style=\"text-align: right;\">\n",
       "      <th></th>\n",
       "      <th>Artist Name</th>\n",
       "      <th>Average Rating</th>\n",
       "    </tr>\n",
       "  </thead>\n",
       "  <tbody>\n",
       "    <tr>\n",
       "      <th>0</th>\n",
       "      <td>David Bowie</td>\n",
       "      <td>4.050</td>\n",
       "    </tr>\n",
       "    <tr>\n",
       "      <th>1</th>\n",
       "      <td>The Beatles</td>\n",
       "      <td>4.045</td>\n",
       "    </tr>\n",
       "    <tr>\n",
       "      <th>2</th>\n",
       "      <td>King Crimson</td>\n",
       "      <td>3.970</td>\n",
       "    </tr>\n",
       "    <tr>\n",
       "      <th>3</th>\n",
       "      <td>The Rolling Stones</td>\n",
       "      <td>3.965</td>\n",
       "    </tr>\n",
       "    <tr>\n",
       "      <th>4</th>\n",
       "      <td>Black Sabbath</td>\n",
       "      <td>3.950</td>\n",
       "    </tr>\n",
       "    <tr>\n",
       "      <th>5</th>\n",
       "      <td>Led Zeppelin</td>\n",
       "      <td>3.940</td>\n",
       "    </tr>\n",
       "    <tr>\n",
       "      <th>6</th>\n",
       "      <td>Pink Floyd</td>\n",
       "      <td>3.910</td>\n",
       "    </tr>\n",
       "    <tr>\n",
       "      <th>7</th>\n",
       "      <td>Death</td>\n",
       "      <td>3.905</td>\n",
       "    </tr>\n",
       "    <tr>\n",
       "      <th>8</th>\n",
       "      <td>John Coltrane</td>\n",
       "      <td>3.905</td>\n",
       "    </tr>\n",
       "    <tr>\n",
       "      <th>9</th>\n",
       "      <td>Bob Dylan</td>\n",
       "      <td>3.890</td>\n",
       "    </tr>\n",
       "  </tbody>\n",
       "</table>\n",
       "</div>"
      ],
      "text/plain": [
       "          Artist Name  Average Rating\n",
       "0         David Bowie           4.050\n",
       "1         The Beatles           4.045\n",
       "2        King Crimson           3.970\n",
       "3  The Rolling Stones           3.965\n",
       "4       Black Sabbath           3.950\n",
       "5        Led Zeppelin           3.940\n",
       "6          Pink Floyd           3.910\n",
       "7               Death           3.905\n",
       "8       John Coltrane           3.905\n",
       "9           Bob Dylan           3.890"
      ]
     },
     "execution_count": 18,
     "metadata": {},
     "output_type": "execute_result"
    }
   ],
   "source": [
    "df1"
   ]
  },
  {
   "cell_type": "markdown",
   "id": "5b24ae18",
   "metadata": {},
   "source": [
    "#### Jacy artyści mają największą różnicę między najgorszym i najlepszym średnim ratingiem dla swojego albumu? Podaj top 10  oraz najwyższą i najniższą ocenę dla każdego z tych artystów. "
   ]
  },
  {
   "cell_type": "code",
   "execution_count": 19,
   "id": "239a5b5e",
   "metadata": {},
   "outputs": [],
   "source": [
    "df2 = df.groupby(\"Artist Name\")[[\"Average Rating\"]].agg(['min', 'max']).reset_index().reset_index(drop = True)\n",
    "df2[\"Roznica\"] = df2[('Average Rating', 'max')] - df2[('Average Rating', 'min')]\n",
    "df2 = df2.sort_values([\"Roznica\"], ascending= False).reset_index(drop = True).head(10)"
   ]
  },
  {
   "cell_type": "markdown",
   "id": "7bdf6eca",
   "metadata": {},
   "source": [
    "### Odpowiedź:"
   ]
  },
  {
   "cell_type": "code",
   "execution_count": 20,
   "id": "ffc4b0d5",
   "metadata": {},
   "outputs": [
    {
     "data": {
      "text/html": [
       "<div>\n",
       "<style scoped>\n",
       "    .dataframe tbody tr th:only-of-type {\n",
       "        vertical-align: middle;\n",
       "    }\n",
       "\n",
       "    .dataframe tbody tr th {\n",
       "        vertical-align: top;\n",
       "    }\n",
       "\n",
       "    .dataframe thead tr th {\n",
       "        text-align: left;\n",
       "    }\n",
       "</style>\n",
       "<table border=\"1\" class=\"dataframe\">\n",
       "  <thead>\n",
       "    <tr>\n",
       "      <th></th>\n",
       "      <th>Artist Name</th>\n",
       "      <th colspan=\"2\" halign=\"left\">Average Rating</th>\n",
       "      <th>Roznica</th>\n",
       "    </tr>\n",
       "    <tr>\n",
       "      <th></th>\n",
       "      <th></th>\n",
       "      <th>min</th>\n",
       "      <th>max</th>\n",
       "      <th></th>\n",
       "    </tr>\n",
       "  </thead>\n",
       "  <tbody>\n",
       "    <tr>\n",
       "      <th>0</th>\n",
       "      <td>Kendrick Lamar</td>\n",
       "      <td>3.52</td>\n",
       "      <td>4.27</td>\n",
       "      <td>0.75</td>\n",
       "    </tr>\n",
       "    <tr>\n",
       "      <th>1</th>\n",
       "      <td>The Beatles</td>\n",
       "      <td>3.55</td>\n",
       "      <td>4.25</td>\n",
       "      <td>0.70</td>\n",
       "    </tr>\n",
       "    <tr>\n",
       "      <th>2</th>\n",
       "      <td>Pink Floyd</td>\n",
       "      <td>3.60</td>\n",
       "      <td>4.29</td>\n",
       "      <td>0.69</td>\n",
       "    </tr>\n",
       "    <tr>\n",
       "      <th>3</th>\n",
       "      <td>My Bloody Valentine</td>\n",
       "      <td>3.58</td>\n",
       "      <td>4.24</td>\n",
       "      <td>0.66</td>\n",
       "    </tr>\n",
       "    <tr>\n",
       "      <th>4</th>\n",
       "      <td>King Crimson</td>\n",
       "      <td>3.67</td>\n",
       "      <td>4.30</td>\n",
       "      <td>0.63</td>\n",
       "    </tr>\n",
       "    <tr>\n",
       "      <th>5</th>\n",
       "      <td>John Coltrane</td>\n",
       "      <td>3.70</td>\n",
       "      <td>4.30</td>\n",
       "      <td>0.60</td>\n",
       "    </tr>\n",
       "    <tr>\n",
       "      <th>6</th>\n",
       "      <td>Radiohead</td>\n",
       "      <td>3.66</td>\n",
       "      <td>4.23</td>\n",
       "      <td>0.57</td>\n",
       "    </tr>\n",
       "    <tr>\n",
       "      <th>7</th>\n",
       "      <td>Miles Davis</td>\n",
       "      <td>3.69</td>\n",
       "      <td>4.23</td>\n",
       "      <td>0.54</td>\n",
       "    </tr>\n",
       "    <tr>\n",
       "      <th>8</th>\n",
       "      <td>The Cure</td>\n",
       "      <td>3.63</td>\n",
       "      <td>4.17</td>\n",
       "      <td>0.54</td>\n",
       "    </tr>\n",
       "    <tr>\n",
       "      <th>9</th>\n",
       "      <td>Kanye West</td>\n",
       "      <td>3.54</td>\n",
       "      <td>4.07</td>\n",
       "      <td>0.53</td>\n",
       "    </tr>\n",
       "  </tbody>\n",
       "</table>\n",
       "</div>"
      ],
      "text/plain": [
       "           Artist Name Average Rating       Roznica\n",
       "                                  min   max        \n",
       "0       Kendrick Lamar           3.52  4.27    0.75\n",
       "1          The Beatles           3.55  4.25    0.70\n",
       "2           Pink Floyd           3.60  4.29    0.69\n",
       "3  My Bloody Valentine           3.58  4.24    0.66\n",
       "4         King Crimson           3.67  4.30    0.63\n",
       "5        John Coltrane           3.70  4.30    0.60\n",
       "6            Radiohead           3.66  4.23    0.57\n",
       "7          Miles Davis           3.69  4.23    0.54\n",
       "8             The Cure           3.63  4.17    0.54\n",
       "9           Kanye West           3.54  4.07    0.53"
      ]
     },
     "execution_count": 20,
     "metadata": {},
     "output_type": "execute_result"
    }
   ],
   "source": [
    "df2"
   ]
  },
  {
   "cell_type": "markdown",
   "id": "c3b4419a",
   "metadata": {},
   "source": [
    "#### Podaj top 10 albumów o największym stosunku liczby ocen do liczby recenzji. Weź pod uwagę tylko albumy o przynajmniej 5000 ocenach i 15 recenzjach."
   ]
  },
  {
   "cell_type": "code",
   "execution_count": 43,
   "id": "2c64904f",
   "metadata": {},
   "outputs": [],
   "source": [
    "df3 = df\n",
    "df3[\"Number of Ratings\"] = pd.to_numeric(df3[\"Number of Ratings\"])\n",
    "df3 = df3.loc[(df3[\"Number of Reviews\"] >15) & (df3[\"Number of Ratings\"] > 5)]"
   ]
  },
  {
   "cell_type": "code",
   "execution_count": 44,
   "id": "0819c99a",
   "metadata": {},
   "outputs": [
    {
     "name": "stderr",
     "output_type": "stream",
     "text": [
      "C:\\Users\\Krzysztof Sawicki\\AppData\\Local\\Temp\\ipykernel_28440\\1905185266.py:3: SettingWithCopyWarning: \n",
      "A value is trying to be set on a copy of a slice from a DataFrame.\n",
      "Try using .loc[row_indexer,col_indexer] = value instead\n",
      "\n",
      "See the caveats in the documentation: https://pandas.pydata.org/pandas-docs/stable/user_guide/indexing.html#returning-a-view-versus-a-copy\n",
      "  df3.loc[:,\"Stosunek\"] = df3.loc[:,\"Number of Ratings\"]/df3.loc[:,\"Number of Reviews\"]\n"
     ]
    }
   ],
   "source": [
    "#Nie za bardzo wiedziałem jak interpretować to że number of ratings w ramce danych nie jest liczbą całkowitą zatem przyjąłem\n",
    "#że przecinek oznaczał tam tylko odzielenie tysięcy\n",
    "df3.loc[:,\"Stosunek\"] = df3.loc[:,\"Number of Ratings\"]/df3.loc[:,\"Number of Reviews\"]\n",
    "df3 = df3.sort_values([\"Stosunek\"], ascending= False).reset_index(drop = True).head(10)"
   ]
  },
  {
   "cell_type": "markdown",
   "id": "292d069c",
   "metadata": {},
   "source": [
    "### Odpowiedź"
   ]
  },
  {
   "cell_type": "code",
   "execution_count": 47,
   "id": "0b1750bf",
   "metadata": {},
   "outputs": [
    {
     "data": {
      "text/html": [
       "<div>\n",
       "<style scoped>\n",
       "    .dataframe tbody tr th:only-of-type {\n",
       "        vertical-align: middle;\n",
       "    }\n",
       "\n",
       "    .dataframe tbody tr th {\n",
       "        vertical-align: top;\n",
       "    }\n",
       "\n",
       "    .dataframe thead th {\n",
       "        text-align: right;\n",
       "    }\n",
       "</style>\n",
       "<table border=\"1\" class=\"dataframe\">\n",
       "  <thead>\n",
       "    <tr style=\"text-align: right;\">\n",
       "      <th></th>\n",
       "      <th>Album</th>\n",
       "      <th>Stosunek</th>\n",
       "    </tr>\n",
       "  </thead>\n",
       "  <tbody>\n",
       "    <tr>\n",
       "      <th>0</th>\n",
       "      <td>Jenny Death: The Powers That B Disc 2</td>\n",
       "      <td>361.833333</td>\n",
       "    </tr>\n",
       "    <tr>\n",
       "      <th>1</th>\n",
       "      <td>Bury Me at Makeout Creek</td>\n",
       "      <td>308.210526</td>\n",
       "    </tr>\n",
       "    <tr>\n",
       "      <th>2</th>\n",
       "      <td>春と修羅 (Haru to Shura)</td>\n",
       "      <td>272.913043</td>\n",
       "    </tr>\n",
       "    <tr>\n",
       "      <th>3</th>\n",
       "      <td>Saturation</td>\n",
       "      <td>251.842857</td>\n",
       "    </tr>\n",
       "    <tr>\n",
       "      <th>4</th>\n",
       "      <td>Saturation III</td>\n",
       "      <td>251.735294</td>\n",
       "    </tr>\n",
       "    <tr>\n",
       "      <th>5</th>\n",
       "      <td>Scenery</td>\n",
       "      <td>248.666667</td>\n",
       "    </tr>\n",
       "    <tr>\n",
       "      <th>6</th>\n",
       "      <td>Endless</td>\n",
       "      <td>228.487179</td>\n",
       "    </tr>\n",
       "    <tr>\n",
       "      <th>7</th>\n",
       "      <td>Imperial</td>\n",
       "      <td>225.420000</td>\n",
       "    </tr>\n",
       "    <tr>\n",
       "      <th>8</th>\n",
       "      <td>Saturation II</td>\n",
       "      <td>215.552941</td>\n",
       "    </tr>\n",
       "    <tr>\n",
       "      <th>9</th>\n",
       "      <td>Bottomless Pit</td>\n",
       "      <td>202.098039</td>\n",
       "    </tr>\n",
       "  </tbody>\n",
       "</table>\n",
       "</div>"
      ],
      "text/plain": [
       "                                   Album    Stosunek\n",
       "0  Jenny Death: The Powers That B Disc 2  361.833333\n",
       "1               Bury Me at Makeout Creek  308.210526\n",
       "2                   春と修羅 (Haru to Shura)  272.913043\n",
       "3                             Saturation  251.842857\n",
       "4                         Saturation III  251.735294\n",
       "5                                Scenery  248.666667\n",
       "6                                Endless  228.487179\n",
       "7                               Imperial  225.420000\n",
       "8                          Saturation II  215.552941\n",
       "9                         Bottomless Pit  202.098039"
      ]
     },
     "execution_count": 47,
     "metadata": {},
     "output_type": "execute_result"
    }
   ],
   "source": [
    "df3[[\"Album\",\"Stosunek\"]]"
   ]
  },
  {
   "cell_type": "markdown",
   "id": "dd2408a1",
   "metadata": {},
   "source": [
    "#### Z których lat pochodzi najwięcej albumów na liście najpopularniejszych wśród krytyków i najpopularniejszych wśród oceniających? \n",
    "a) Podaj 5 lat, w których wydano najwięcej albumów z listy mających liczbę recenzji większą niż Q3 (trzeci kwartyl).\n",
    "\n",
    "b) Podaj 5 lat, w których wydano najwięcej albumów z listy mających liczbę ocen większą niż Q3 (trzeci kwartyl).\n"
   ]
  },
  {
   "cell_type": "code",
   "execution_count": 48,
   "id": "dc06bfbf",
   "metadata": {},
   "outputs": [
    {
     "name": "stderr",
     "output_type": "stream",
     "text": [
      "C:\\Users\\Krzysztof Sawicki\\AppData\\Local\\Temp\\ipykernel_28440\\1205485007.py:2: SettingWithCopyWarning: \n",
      "A value is trying to be set on a copy of a slice from a DataFrame.\n",
      "Try using .loc[row_indexer,col_indexer] = value instead\n",
      "\n",
      "See the caveats in the documentation: https://pandas.pydata.org/pandas-docs/stable/user_guide/indexing.html#returning-a-view-versus-a-copy\n",
      "  df4A[\"Release Date\"] = df4A[\"Release Date\"].str[-4:]\n"
     ]
    }
   ],
   "source": [
    "df4A = df.loc[df[\"Number of Reviews\"] > np.percentile(df[\"Number of Reviews\"], 75)]\n",
    "df4A[\"Release Date\"] = df4A[\"Release Date\"].str[-4:]\n",
    "df4A = df4A.groupby(\"Release Date\").size().reset_index().rename(columns = {0: \"n\"})\n",
    "df4A = df4A.sort_values([\"n\"], ascending= False).reset_index(drop = True).head(5)"
   ]
  },
  {
   "cell_type": "markdown",
   "id": "ebe71192",
   "metadata": {},
   "source": [
    "### OdpowiedźA:"
   ]
  },
  {
   "cell_type": "code",
   "execution_count": 49,
   "id": "b4f25a66",
   "metadata": {},
   "outputs": [
    {
     "data": {
      "text/html": [
       "<div>\n",
       "<style scoped>\n",
       "    .dataframe tbody tr th:only-of-type {\n",
       "        vertical-align: middle;\n",
       "    }\n",
       "\n",
       "    .dataframe tbody tr th {\n",
       "        vertical-align: top;\n",
       "    }\n",
       "\n",
       "    .dataframe thead th {\n",
       "        text-align: right;\n",
       "    }\n",
       "</style>\n",
       "<table border=\"1\" class=\"dataframe\">\n",
       "  <thead>\n",
       "    <tr style=\"text-align: right;\">\n",
       "      <th></th>\n",
       "      <th>Release Date</th>\n",
       "      <th>n</th>\n",
       "    </tr>\n",
       "  </thead>\n",
       "  <tbody>\n",
       "    <tr>\n",
       "      <th>0</th>\n",
       "      <td>1970</td>\n",
       "      <td>43</td>\n",
       "    </tr>\n",
       "    <tr>\n",
       "      <th>1</th>\n",
       "      <td>1971</td>\n",
       "      <td>41</td>\n",
       "    </tr>\n",
       "    <tr>\n",
       "      <th>2</th>\n",
       "      <td>1969</td>\n",
       "      <td>38</td>\n",
       "    </tr>\n",
       "    <tr>\n",
       "      <th>3</th>\n",
       "      <td>1994</td>\n",
       "      <td>36</td>\n",
       "    </tr>\n",
       "    <tr>\n",
       "      <th>4</th>\n",
       "      <td>1995</td>\n",
       "      <td>34</td>\n",
       "    </tr>\n",
       "  </tbody>\n",
       "</table>\n",
       "</div>"
      ],
      "text/plain": [
       "  Release Date   n\n",
       "0         1970  43\n",
       "1         1971  41\n",
       "2         1969  38\n",
       "3         1994  36\n",
       "4         1995  34"
      ]
     },
     "execution_count": 49,
     "metadata": {},
     "output_type": "execute_result"
    }
   ],
   "source": [
    "df4A"
   ]
  },
  {
   "cell_type": "code",
   "execution_count": 50,
   "id": "74b04942",
   "metadata": {},
   "outputs": [
    {
     "name": "stderr",
     "output_type": "stream",
     "text": [
      "C:\\Users\\Krzysztof Sawicki\\AppData\\Local\\Temp\\ipykernel_28440\\1355247414.py:2: SettingWithCopyWarning: \n",
      "A value is trying to be set on a copy of a slice from a DataFrame.\n",
      "Try using .loc[row_indexer,col_indexer] = value instead\n",
      "\n",
      "See the caveats in the documentation: https://pandas.pydata.org/pandas-docs/stable/user_guide/indexing.html#returning-a-view-versus-a-copy\n",
      "  df4B[\"Release Date\"] = df4B[\"Release Date\"].str[-4:]\n"
     ]
    }
   ],
   "source": [
    "df4B = df.loc[df[\"Number of Ratings\"] > np.percentile(df[\"Number of Ratings\"], 75)]\n",
    "df4B[\"Release Date\"] = df4B[\"Release Date\"].str[-4:]\n",
    "df4B = df4B.groupby(\"Release Date\").size().reset_index().rename(columns = {0: \"n\"})\n",
    "df4B = df4B.sort_values([\"n\"], ascending= False).reset_index(drop = True).head(5)"
   ]
  },
  {
   "cell_type": "markdown",
   "id": "4dfe1241",
   "metadata": {},
   "source": [
    "### Odpowiedź B:"
   ]
  },
  {
   "cell_type": "code",
   "execution_count": 51,
   "id": "5faf0e12",
   "metadata": {},
   "outputs": [
    {
     "data": {
      "text/html": [
       "<div>\n",
       "<style scoped>\n",
       "    .dataframe tbody tr th:only-of-type {\n",
       "        vertical-align: middle;\n",
       "    }\n",
       "\n",
       "    .dataframe tbody tr th {\n",
       "        vertical-align: top;\n",
       "    }\n",
       "\n",
       "    .dataframe thead th {\n",
       "        text-align: right;\n",
       "    }\n",
       "</style>\n",
       "<table border=\"1\" class=\"dataframe\">\n",
       "  <thead>\n",
       "    <tr style=\"text-align: right;\">\n",
       "      <th></th>\n",
       "      <th>Release Date</th>\n",
       "      <th>n</th>\n",
       "    </tr>\n",
       "  </thead>\n",
       "  <tbody>\n",
       "    <tr>\n",
       "      <th>0</th>\n",
       "      <td>1994</td>\n",
       "      <td>41</td>\n",
       "    </tr>\n",
       "    <tr>\n",
       "      <th>1</th>\n",
       "      <td>1971</td>\n",
       "      <td>36</td>\n",
       "    </tr>\n",
       "    <tr>\n",
       "      <th>2</th>\n",
       "      <td>1970</td>\n",
       "      <td>35</td>\n",
       "    </tr>\n",
       "    <tr>\n",
       "      <th>3</th>\n",
       "      <td>1996</td>\n",
       "      <td>34</td>\n",
       "    </tr>\n",
       "    <tr>\n",
       "      <th>4</th>\n",
       "      <td>1995</td>\n",
       "      <td>33</td>\n",
       "    </tr>\n",
       "  </tbody>\n",
       "</table>\n",
       "</div>"
      ],
      "text/plain": [
       "  Release Date   n\n",
       "0         1994  41\n",
       "1         1971  36\n",
       "2         1970  35\n",
       "3         1996  34\n",
       "4         1995  33"
      ]
     },
     "execution_count": 51,
     "metadata": {},
     "output_type": "execute_result"
    }
   ],
   "source": [
    "df4B"
   ]
  },
  {
   "cell_type": "markdown",
   "id": "da9a51d3",
   "metadata": {},
   "source": [
    "## Zadanie 2 "
   ]
  },
  {
   "cell_type": "code",
   "execution_count": 52,
   "id": "3c4c2735",
   "metadata": {},
   "outputs": [],
   "source": [
    "import matplotlib.pyplot as plt\n",
    "import seaborn as sns"
   ]
  },
  {
   "cell_type": "code",
   "execution_count": 62,
   "id": "6b77c83a",
   "metadata": {},
   "outputs": [
    {
     "name": "stderr",
     "output_type": "stream",
     "text": [
      "C:\\Users\\Krzysztof Sawicki\\AppData\\Local\\Temp\\ipykernel_28440\\841244156.py:2: SettingWithCopyWarning: \n",
      "A value is trying to be set on a copy of a slice from a DataFrame.\n",
      "Try using .loc[row_indexer,col_indexer] = value instead\n",
      "\n",
      "See the caveats in the documentation: https://pandas.pydata.org/pandas-docs/stable/user_guide/indexing.html#returning-a-view-versus-a-copy\n",
      "  df2k[\"Release Date\"] = df2k[\"Release Date\"].str[-4:]\n"
     ]
    }
   ],
   "source": [
    "df2k = df.loc[df[\"Number of Reviews\"] > np.percentile(df[\"Number of Reviews\"], 75)]\n",
    "df2k[\"Release Date\"] = df2k[\"Release Date\"].str[-4:]\n",
    "df2k = df2k.groupby(\"Release Date\").size().reset_index().rename(columns = {0: \"n\"})\n",
    "df2k = df2k.sort_values([\"n\"], ascending= False).reset_index(drop = True)\n",
    "df2k[\"Release Date\"] = pd.to_numeric(df2k[\"Release Date\"])\n",
    "df2k = df2k.loc[df2k[\"Release Date\"] > 2000].head(5)"
   ]
  },
  {
   "cell_type": "code",
   "execution_count": 59,
   "id": "bb803698",
   "metadata": {},
   "outputs": [
    {
     "data": {
      "image/png": "[encoded data removed]",
      "text/plain": [
       "<Figure size 432x288 with 2 Axes>"
      ]
     },
     "metadata": {
      "needs_background": "light"
     },
     "output_type": "display_data"
    }
   ],
   "source": [
    "\n",
    "fig, (ax1, ax2) = plt.subplots(1, 2,sharey=True)\n",
    "\n",
    "fig.suptitle('Porównanie liczby wydanych albumów, dla których liczba recenzji >Q3')\n",
    "ax1.set_title('Top 5 20 wieku')\n",
    "ax2.set_title('Top 5 21 wieku')\n",
    "sns.barplot(data=df4A, x='Release Date', y='n',color='steelblue',ax=ax1)\n",
    "sns.barplot(data=df2k, x='Release Date', y='n',color='red', ax=ax2)\n",
    "ax1.set(xlabel='Rok wydania', ylabel='Liczba wydanych albumów')\n",
    "ax2.set(xlabel='Rok wydania', ylabel='Liczba wydanych albumów')\n",
    "fig.tight_layout()\n",
    "\n",
    "plt.show()"
   ]
  },
  {
   "cell_type": "code",
   "execution_count": null,
   "id": "36a6feb9",
   "metadata": {},
   "outputs": [],
   "source": []
  }
 ],
 "metadata": {
  "kernelspec": {
   "display_name": "Python 3 (ipykernel)",
   "language": "python",
   "name": "python3"
  },
  "language_info": {
   "codemirror_mode": {
    "name": "ipython",
    "version": 3
   },
   "file_extension": ".py",
   "mimetype": "text/x-python",
   "name": "python",
   "nbconvert_exporter": "python",
   "pygments_lexer": "ipython3",
   "version": "3.9.5"
  }
 },
 "nbformat": 4,
 "nbformat_minor": 5
}
