{
 "cells": [
  {
   "cell_type": "markdown",
   "id": "caa75dbf",
   "metadata": {
    "id": "caa75dbf"
   },
   "source": [
    "# Praca domowa nr 8"
   ]
  },
  {
   "cell_type": "markdown",
   "id": "b5401c27",
   "metadata": {
    "id": "b5401c27"
   },
   "source": [
    "- Dane to tej pracy domowej to lista top 5000 albumów muzycznych wg portalu [rateyourmusic.com](https://rateyourmusic.com). Dataset wraz z opisem można znaleźć na [Kaggle'u](https://www.kaggle.com/datasets/michaelbryantds/top-5000-albums-of-all-time-rateyourmusiccom). \n",
    "- Dane znajdują się też w katalogu z pracą domową - nazwa pliku to `rym_top5000.csv`.  "
   ]
  },
  {
   "cell_type": "markdown",
   "id": "4f2dc2f5",
   "metadata": {
    "id": "4f2dc2f5"
   },
   "source": [
    "## Zadanie 1 - `numpy` + `pandas` (2 pkt)\n",
    "Używając funkcji z pakietów `numpy` oraz `pandas` odpowiedz na poniższe pytania dotyczące zbioru danych o albumach muzycznych."
   ]
  },
  {
   "cell_type": "code",
   "execution_count": 1,
   "id": "7c1befd1",
   "metadata": {
    "id": "7c1befd1"
   },
   "outputs": [],
   "source": [
    "import numpy as np\n",
    "import pandas as pd\n",
    "pd.options.mode.chained_assignment = None"
   ]
  },
  {
   "cell_type": "code",
   "execution_count": 2,
   "id": "227cdfef",
   "metadata": {
    "id": "227cdfef"
   },
   "outputs": [],
   "source": [
    "df = pd.read_csv(\"rym_top5000.csv\", decimal = \".\")"
   ]
  },
  {
   "cell_type": "code",
   "execution_count": 3,
   "id": "64d99c26",
   "metadata": {
    "id": "64d99c26",
    "outputId": "517979b8-d3fa-4dd1-983a-b7eed684d185"
   },
   "outputs": [
    {
     "data": {
      "text/html": [
       "<div>\n",
       "<style scoped>\n",
       "    .dataframe tbody tr th:only-of-type {\n",
       "        vertical-align: middle;\n",
       "    }\n",
       "\n",
       "    .dataframe tbody tr th {\n",
       "        vertical-align: top;\n",
       "    }\n",
       "\n",
       "    .dataframe thead th {\n",
       "        text-align: right;\n",
       "    }\n",
       "</style>\n",
       "<table border=\"1\" class=\"dataframe\">\n",
       "  <thead>\n",
       "    <tr style=\"text-align: right;\">\n",
       "      <th></th>\n",
       "      <th>Ranking</th>\n",
       "      <th>Album</th>\n",
       "      <th>Artist Name</th>\n",
       "      <th>Release Date</th>\n",
       "      <th>Genres</th>\n",
       "      <th>Descriptors</th>\n",
       "      <th>Average Rating</th>\n",
       "      <th>Number of Ratings</th>\n",
       "      <th>Number of Reviews</th>\n",
       "    </tr>\n",
       "  </thead>\n",
       "  <tbody>\n",
       "    <tr>\n",
       "      <th>0</th>\n",
       "      <td>1.0</td>\n",
       "      <td>OK Computer</td>\n",
       "      <td>Radiohead</td>\n",
       "      <td>16 June 1997</td>\n",
       "      <td>Alternative Rock, Art Rock</td>\n",
       "      <td>melancholic, anxious, futuristic, alienation, ...</td>\n",
       "      <td>4.23</td>\n",
       "      <td>70382</td>\n",
       "      <td>1531</td>\n",
       "    </tr>\n",
       "    <tr>\n",
       "      <th>1</th>\n",
       "      <td>2.0</td>\n",
       "      <td>Wish You Were Here</td>\n",
       "      <td>Pink Floyd</td>\n",
       "      <td>12 September 1975</td>\n",
       "      <td>Progressive Rock, Art Rock</td>\n",
       "      <td>melancholic, atmospheric, progressive, male vo...</td>\n",
       "      <td>4.29</td>\n",
       "      <td>48662</td>\n",
       "      <td>983</td>\n",
       "    </tr>\n",
       "    <tr>\n",
       "      <th>2</th>\n",
       "      <td>3.0</td>\n",
       "      <td>In the Court of the Crimson King</td>\n",
       "      <td>King Crimson</td>\n",
       "      <td>10 October 1969</td>\n",
       "      <td>Progressive Rock, Art Rock</td>\n",
       "      <td>fantasy, epic, progressive, philosophical, com...</td>\n",
       "      <td>4.30</td>\n",
       "      <td>44943</td>\n",
       "      <td>870</td>\n",
       "    </tr>\n",
       "    <tr>\n",
       "      <th>3</th>\n",
       "      <td>4.0</td>\n",
       "      <td>Kid A</td>\n",
       "      <td>Radiohead</td>\n",
       "      <td>3 October 2000</td>\n",
       "      <td>Art Rock, Experimental Rock, Electronic</td>\n",
       "      <td>cold, melancholic, futuristic, atmospheric, an...</td>\n",
       "      <td>4.21</td>\n",
       "      <td>58590</td>\n",
       "      <td>734</td>\n",
       "    </tr>\n",
       "    <tr>\n",
       "      <th>4</th>\n",
       "      <td>5.0</td>\n",
       "      <td>To Pimp a Butterfly</td>\n",
       "      <td>Kendrick Lamar</td>\n",
       "      <td>15 March 2015</td>\n",
       "      <td>Conscious Hip Hop, West Coast Hip Hop, Jazz Rap</td>\n",
       "      <td>political, conscious, poetic, protest, concept...</td>\n",
       "      <td>4.27</td>\n",
       "      <td>44206</td>\n",
       "      <td>379</td>\n",
       "    </tr>\n",
       "  </tbody>\n",
       "</table>\n",
       "</div>"
      ],
      "text/plain": [
       "   Ranking                             Album     Artist Name  \\\n",
       "0      1.0                       OK Computer       Radiohead   \n",
       "1      2.0                Wish You Were Here      Pink Floyd   \n",
       "2      3.0  In the Court of the Crimson King    King Crimson   \n",
       "3      4.0                             Kid A       Radiohead   \n",
       "4      5.0               To Pimp a Butterfly  Kendrick Lamar   \n",
       "\n",
       "        Release Date                                           Genres  \\\n",
       "0       16 June 1997                       Alternative Rock, Art Rock   \n",
       "1  12 September 1975                       Progressive Rock, Art Rock   \n",
       "2    10 October 1969                       Progressive Rock, Art Rock   \n",
       "3     3 October 2000          Art Rock, Experimental Rock, Electronic   \n",
       "4      15 March 2015  Conscious Hip Hop, West Coast Hip Hop, Jazz Rap   \n",
       "\n",
       "                                         Descriptors  Average Rating  \\\n",
       "0  melancholic, anxious, futuristic, alienation, ...            4.23   \n",
       "1  melancholic, atmospheric, progressive, male vo...            4.29   \n",
       "2  fantasy, epic, progressive, philosophical, com...            4.30   \n",
       "3  cold, melancholic, futuristic, atmospheric, an...            4.21   \n",
       "4  political, conscious, poetic, protest, concept...            4.27   \n",
       "\n",
       "   Number of Ratings  Number of Reviews  \n",
       "0              70382               1531  \n",
       "1              48662                983  \n",
       "2              44943                870  \n",
       "3              58590                734  \n",
       "4              44206                379  "
      ]
     },
     "execution_count": 3,
     "metadata": {},
     "output_type": "execute_result"
    }
   ],
   "source": [
    "\n",
    "df['Number of Ratings']=df['Number of Ratings'].str.replace(',','').astype(int)\n",
    "df.head()"
   ]
  },
  {
   "cell_type": "markdown",
   "id": "9db9ab53",
   "metadata": {
    "id": "9db9ab53"
   },
   "source": [
    "#### Jacy artyści z ponad 5 albumami na liście mają największą medianę ocen dla swoich albumów? Podaj top 10."
   ]
  },
  {
   "cell_type": "code",
   "execution_count": 4,
   "id": "eea99bae",
   "metadata": {
    "id": "eea99bae"
   },
   "outputs": [
    {
     "data": {
      "text/html": [
       "<div>\n",
       "<style scoped>\n",
       "    .dataframe tbody tr th:only-of-type {\n",
       "        vertical-align: middle;\n",
       "    }\n",
       "\n",
       "    .dataframe tbody tr th {\n",
       "        vertical-align: top;\n",
       "    }\n",
       "\n",
       "    .dataframe thead th {\n",
       "        text-align: right;\n",
       "    }\n",
       "</style>\n",
       "<table border=\"1\" class=\"dataframe\">\n",
       "  <thead>\n",
       "    <tr style=\"text-align: right;\">\n",
       "      <th></th>\n",
       "      <th>Artist Name</th>\n",
       "      <th>median</th>\n",
       "    </tr>\n",
       "  </thead>\n",
       "  <tbody>\n",
       "    <tr>\n",
       "      <th>0</th>\n",
       "      <td>David Bowie</td>\n",
       "      <td>4.050</td>\n",
       "    </tr>\n",
       "    <tr>\n",
       "      <th>1</th>\n",
       "      <td>The Beatles</td>\n",
       "      <td>4.045</td>\n",
       "    </tr>\n",
       "    <tr>\n",
       "      <th>2</th>\n",
       "      <td>King Crimson</td>\n",
       "      <td>3.970</td>\n",
       "    </tr>\n",
       "    <tr>\n",
       "      <th>3</th>\n",
       "      <td>The Rolling Stones</td>\n",
       "      <td>3.965</td>\n",
       "    </tr>\n",
       "    <tr>\n",
       "      <th>4</th>\n",
       "      <td>Black Sabbath</td>\n",
       "      <td>3.950</td>\n",
       "    </tr>\n",
       "    <tr>\n",
       "      <th>5</th>\n",
       "      <td>Led Zeppelin</td>\n",
       "      <td>3.940</td>\n",
       "    </tr>\n",
       "    <tr>\n",
       "      <th>6</th>\n",
       "      <td>Pink Floyd</td>\n",
       "      <td>3.910</td>\n",
       "    </tr>\n",
       "    <tr>\n",
       "      <th>7</th>\n",
       "      <td>Death</td>\n",
       "      <td>3.905</td>\n",
       "    </tr>\n",
       "    <tr>\n",
       "      <th>8</th>\n",
       "      <td>John Coltrane</td>\n",
       "      <td>3.905</td>\n",
       "    </tr>\n",
       "    <tr>\n",
       "      <th>9</th>\n",
       "      <td>Bob Dylan</td>\n",
       "      <td>3.890</td>\n",
       "    </tr>\n",
       "  </tbody>\n",
       "</table>\n",
       "</div>"
      ],
      "text/plain": [
       "          Artist Name  median\n",
       "0         David Bowie   4.050\n",
       "1         The Beatles   4.045\n",
       "2        King Crimson   3.970\n",
       "3  The Rolling Stones   3.965\n",
       "4       Black Sabbath   3.950\n",
       "5        Led Zeppelin   3.940\n",
       "6          Pink Floyd   3.910\n",
       "7               Death   3.905\n",
       "8       John Coltrane   3.905\n",
       "9           Bob Dylan   3.890"
      ]
     },
     "execution_count": 4,
     "metadata": {},
     "output_type": "execute_result"
    }
   ],
   "source": [
    "artysci = df.groupby('Artist Name')['Average Rating'].agg(['median', 'count'])\n",
    "artysci = artysci[artysci['count'] > 5]\n",
    "artysci = artysci.sort_values('median', ascending=False).head(10).reset_index()\n",
    "artysci[[\"Artist Name\", \"median\"]]"
   ]
  },
  {
   "cell_type": "markdown",
   "id": "5b24ae18",
   "metadata": {
    "id": "5b24ae18"
   },
   "source": [
    "#### Jacy artyści mają największą różnicę między najgorszym i najlepszym średnim ratingiem dla swojego albumu? Podaj top 10  oraz najwyższą i najniższą ocenę dla każdego z tych artystów. "
   ]
  },
  {
   "cell_type": "code",
   "execution_count": 5,
   "id": "239a5b5e",
   "metadata": {
    "id": "239a5b5e"
   },
   "outputs": [
    {
     "data": {
      "text/html": [
       "<div>\n",
       "<style scoped>\n",
       "    .dataframe tbody tr th:only-of-type {\n",
       "        vertical-align: middle;\n",
       "    }\n",
       "\n",
       "    .dataframe tbody tr th {\n",
       "        vertical-align: top;\n",
       "    }\n",
       "\n",
       "    .dataframe thead th {\n",
       "        text-align: right;\n",
       "    }\n",
       "</style>\n",
       "<table border=\"1\" class=\"dataframe\">\n",
       "  <thead>\n",
       "    <tr style=\"text-align: right;\">\n",
       "      <th></th>\n",
       "      <th>Artist Name</th>\n",
       "      <th>roznica</th>\n",
       "    </tr>\n",
       "  </thead>\n",
       "  <tbody>\n",
       "    <tr>\n",
       "      <th>0</th>\n",
       "      <td>Kendrick Lamar</td>\n",
       "      <td>0.75</td>\n",
       "    </tr>\n",
       "    <tr>\n",
       "      <th>1</th>\n",
       "      <td>The Beatles</td>\n",
       "      <td>0.70</td>\n",
       "    </tr>\n",
       "    <tr>\n",
       "      <th>2</th>\n",
       "      <td>Pink Floyd</td>\n",
       "      <td>0.69</td>\n",
       "    </tr>\n",
       "    <tr>\n",
       "      <th>3</th>\n",
       "      <td>My Bloody Valentine</td>\n",
       "      <td>0.66</td>\n",
       "    </tr>\n",
       "    <tr>\n",
       "      <th>4</th>\n",
       "      <td>King Crimson</td>\n",
       "      <td>0.63</td>\n",
       "    </tr>\n",
       "    <tr>\n",
       "      <th>5</th>\n",
       "      <td>John Coltrane</td>\n",
       "      <td>0.60</td>\n",
       "    </tr>\n",
       "    <tr>\n",
       "      <th>6</th>\n",
       "      <td>Radiohead</td>\n",
       "      <td>0.57</td>\n",
       "    </tr>\n",
       "    <tr>\n",
       "      <th>7</th>\n",
       "      <td>Miles Davis</td>\n",
       "      <td>0.54</td>\n",
       "    </tr>\n",
       "    <tr>\n",
       "      <th>8</th>\n",
       "      <td>The Cure</td>\n",
       "      <td>0.54</td>\n",
       "    </tr>\n",
       "    <tr>\n",
       "      <th>9</th>\n",
       "      <td>Kanye West</td>\n",
       "      <td>0.53</td>\n",
       "    </tr>\n",
       "  </tbody>\n",
       "</table>\n",
       "</div>"
      ],
      "text/plain": [
       "           Artist Name  roznica\n",
       "0       Kendrick Lamar     0.75\n",
       "1          The Beatles     0.70\n",
       "2           Pink Floyd     0.69\n",
       "3  My Bloody Valentine     0.66\n",
       "4         King Crimson     0.63\n",
       "5        John Coltrane     0.60\n",
       "6            Radiohead     0.57\n",
       "7          Miles Davis     0.54\n",
       "8             The Cure     0.54\n",
       "9           Kanye West     0.53"
      ]
     },
     "execution_count": 5,
     "metadata": {},
     "output_type": "execute_result"
    }
   ],
   "source": [
    "\n",
    "artysci2 = df.groupby('Artist Name')['Average Rating'].agg(['max', 'min', 'count'])\n",
    "artysci2 = artysci2[artysci2['count'] >= 2]\n",
    "artysci2['roznica'] = artysci2['max'] - artysci2['min']\n",
    "artysci2 = artysci2.sort_values('roznica', ascending=False).head(10).reset_index()\n",
    "artysci2[['Artist Name', 'roznica']]"
   ]
  },
  {
   "cell_type": "markdown",
   "id": "c3b4419a",
   "metadata": {
    "id": "c3b4419a"
   },
   "source": [
    "#### Podaj top 10 albumów o największym stosunku liczby ocen do liczby recenzji. Weź pod uwagę tylko albumy o przynajmniej 5000 ocenach i 15 recenzjach."
   ]
  },
  {
   "cell_type": "code",
   "execution_count": 6,
   "id": "0893f98e",
   "metadata": {
    "id": "0893f98e"
   },
   "outputs": [
    {
     "data": {
      "text/html": [
       "<div>\n",
       "<style scoped>\n",
       "    .dataframe tbody tr th:only-of-type {\n",
       "        vertical-align: middle;\n",
       "    }\n",
       "\n",
       "    .dataframe tbody tr th {\n",
       "        vertical-align: top;\n",
       "    }\n",
       "\n",
       "    .dataframe thead th {\n",
       "        text-align: right;\n",
       "    }\n",
       "</style>\n",
       "<table border=\"1\" class=\"dataframe\">\n",
       "  <thead>\n",
       "    <tr style=\"text-align: right;\">\n",
       "      <th></th>\n",
       "      <th>Album</th>\n",
       "      <th>stosunek</th>\n",
       "    </tr>\n",
       "  </thead>\n",
       "  <tbody>\n",
       "    <tr>\n",
       "      <th>0</th>\n",
       "      <td>Jenny Death: The Powers That B Disc 2</td>\n",
       "      <td>361.833333</td>\n",
       "    </tr>\n",
       "    <tr>\n",
       "      <th>1</th>\n",
       "      <td>Bury Me at Makeout Creek</td>\n",
       "      <td>308.210526</td>\n",
       "    </tr>\n",
       "    <tr>\n",
       "      <th>2</th>\n",
       "      <td>春と修羅 (Haru to Shura)</td>\n",
       "      <td>272.913043</td>\n",
       "    </tr>\n",
       "    <tr>\n",
       "      <th>3</th>\n",
       "      <td>Saturation</td>\n",
       "      <td>251.842857</td>\n",
       "    </tr>\n",
       "    <tr>\n",
       "      <th>4</th>\n",
       "      <td>Saturation III</td>\n",
       "      <td>251.735294</td>\n",
       "    </tr>\n",
       "    <tr>\n",
       "      <th>5</th>\n",
       "      <td>Scenery</td>\n",
       "      <td>248.666667</td>\n",
       "    </tr>\n",
       "    <tr>\n",
       "      <th>6</th>\n",
       "      <td>Endless</td>\n",
       "      <td>228.487179</td>\n",
       "    </tr>\n",
       "    <tr>\n",
       "      <th>7</th>\n",
       "      <td>Imperial</td>\n",
       "      <td>225.420000</td>\n",
       "    </tr>\n",
       "    <tr>\n",
       "      <th>8</th>\n",
       "      <td>Saturation II</td>\n",
       "      <td>215.552941</td>\n",
       "    </tr>\n",
       "    <tr>\n",
       "      <th>9</th>\n",
       "      <td>Bottomless Pit</td>\n",
       "      <td>202.098039</td>\n",
       "    </tr>\n",
       "  </tbody>\n",
       "</table>\n",
       "</div>"
      ],
      "text/plain": [
       "                                   Album    stosunek\n",
       "0  Jenny Death: The Powers That B Disc 2  361.833333\n",
       "1               Bury Me at Makeout Creek  308.210526\n",
       "2                   春と修羅 (Haru to Shura)  272.913043\n",
       "3                             Saturation  251.842857\n",
       "4                         Saturation III  251.735294\n",
       "5                                Scenery  248.666667\n",
       "6                                Endless  228.487179\n",
       "7                               Imperial  225.420000\n",
       "8                          Saturation II  215.552941\n",
       "9                         Bottomless Pit  202.098039"
      ]
     },
     "execution_count": 6,
     "metadata": {},
     "output_type": "execute_result"
    }
   ],
   "source": [
    "\n",
    "albumy = df[(df['Number of Ratings'] >= 5000) & (df['Number of Reviews'] >= 15)]\n",
    "albumy.loc[:,\"stosunek\"] = albumy['Number of Ratings'].div(albumy['Number of Reviews'].values)\n",
    "albumy = albumy.sort_values('stosunek', ascending=False).head(10).reset_index()\n",
    "\n",
    "albumy[[\"Album\",\"stosunek\"]]"
   ]
  },
  {
   "cell_type": "markdown",
   "id": "dd2408a1",
   "metadata": {
    "id": "dd2408a1"
   },
   "source": [
    "#### Z których lat pochodzi najwięcej albumów na liście najpopularniejszych wśród krytyków i najpopularniejszych wśród oceniających? \n",
    "a) Podaj 5 lat, w których wydano najwięcej albumów z listy mających liczbę recenzji większą niż Q3 (trzeci kwartyl).\n",
    "\n",
    "b) Podaj 5 lat, w których wydano najwięcej albumów z listy mających liczbę ocen większą niż Q3 (trzeci kwartyl).\n"
   ]
  },
  {
   "cell_type": "code",
   "execution_count": 7,
   "id": "dc06bfbf",
   "metadata": {
    "id": "dc06bfbf"
   },
   "outputs": [
    {
     "data": {
      "text/html": [
       "<div>\n",
       "<style scoped>\n",
       "    .dataframe tbody tr th:only-of-type {\n",
       "        vertical-align: middle;\n",
       "    }\n",
       "\n",
       "    .dataframe tbody tr th {\n",
       "        vertical-align: top;\n",
       "    }\n",
       "\n",
       "    .dataframe thead th {\n",
       "        text-align: right;\n",
       "    }\n",
       "</style>\n",
       "<table border=\"1\" class=\"dataframe\">\n",
       "  <thead>\n",
       "    <tr style=\"text-align: right;\">\n",
       "      <th></th>\n",
       "      <th>count</th>\n",
       "    </tr>\n",
       "    <tr>\n",
       "      <th>rok</th>\n",
       "      <th></th>\n",
       "    </tr>\n",
       "  </thead>\n",
       "  <tbody>\n",
       "    <tr>\n",
       "      <th>1970</th>\n",
       "      <td>43</td>\n",
       "    </tr>\n",
       "    <tr>\n",
       "      <th>1971</th>\n",
       "      <td>41</td>\n",
       "    </tr>\n",
       "    <tr>\n",
       "      <th>1969</th>\n",
       "      <td>38</td>\n",
       "    </tr>\n",
       "    <tr>\n",
       "      <th>1994</th>\n",
       "      <td>36</td>\n",
       "    </tr>\n",
       "    <tr>\n",
       "      <th>1995</th>\n",
       "      <td>34</td>\n",
       "    </tr>\n",
       "  </tbody>\n",
       "</table>\n",
       "</div>"
      ],
      "text/plain": [
       "      count\n",
       "rok        \n",
       "1970     43\n",
       "1971     41\n",
       "1969     38\n",
       "1994     36\n",
       "1995     34"
      ]
     },
     "execution_count": 7,
     "metadata": {},
     "output_type": "execute_result"
    }
   ],
   "source": [
    "# a)\n",
    "albumy_recenzje = df[df['Number of Reviews'] > df['Number of Reviews'].quantile(0.75)]\n",
    "albumy_recenzje[\"rok\"] = albumy_recenzje['Release Date'].str[-4:]\n",
    "albumy_recenzje = albumy_recenzje.groupby('rok')['rok'].agg(['count'])\n",
    "albumy_recenzje.sort_values(\"count\", ascending = False).head(5)"
   ]
  },
  {
   "cell_type": "code",
   "execution_count": 8,
   "id": "e20e0fb0",
   "metadata": {},
   "outputs": [
    {
     "data": {
      "text/html": [
       "<div>\n",
       "<style scoped>\n",
       "    .dataframe tbody tr th:only-of-type {\n",
       "        vertical-align: middle;\n",
       "    }\n",
       "\n",
       "    .dataframe tbody tr th {\n",
       "        vertical-align: top;\n",
       "    }\n",
       "\n",
       "    .dataframe thead th {\n",
       "        text-align: right;\n",
       "    }\n",
       "</style>\n",
       "<table border=\"1\" class=\"dataframe\">\n",
       "  <thead>\n",
       "    <tr style=\"text-align: right;\">\n",
       "      <th></th>\n",
       "      <th>rok</th>\n",
       "      <th>count</th>\n",
       "    </tr>\n",
       "  </thead>\n",
       "  <tbody>\n",
       "    <tr>\n",
       "      <th>0</th>\n",
       "      <td>1994</td>\n",
       "      <td>41</td>\n",
       "    </tr>\n",
       "    <tr>\n",
       "      <th>1</th>\n",
       "      <td>1971</td>\n",
       "      <td>36</td>\n",
       "    </tr>\n",
       "    <tr>\n",
       "      <th>2</th>\n",
       "      <td>1970</td>\n",
       "      <td>35</td>\n",
       "    </tr>\n",
       "    <tr>\n",
       "      <th>3</th>\n",
       "      <td>1996</td>\n",
       "      <td>34</td>\n",
       "    </tr>\n",
       "    <tr>\n",
       "      <th>4</th>\n",
       "      <td>1995</td>\n",
       "      <td>33</td>\n",
       "    </tr>\n",
       "  </tbody>\n",
       "</table>\n",
       "</div>"
      ],
      "text/plain": [
       "    rok  count\n",
       "0  1994     41\n",
       "1  1971     36\n",
       "2  1970     35\n",
       "3  1996     34\n",
       "4  1995     33"
      ]
     },
     "execution_count": 8,
     "metadata": {},
     "output_type": "execute_result"
    }
   ],
   "source": [
    "# b)\n",
    "albumy_oceny = df[df['Number of Ratings'] > df['Number of Ratings'].quantile(0.75)]\n",
    "albumy_oceny[\"rok\"] = albumy_oceny['Release Date'].str[-4:]\n",
    "albumy_oceny = albumy_oceny.groupby('rok')['rok'].agg(['count'])\n",
    "albumy_oceny.sort_values(\"count\", ascending = False).head(5).reset_index()"
   ]
  },
  {
   "cell_type": "markdown",
   "id": "da9a51d3",
   "metadata": {
    "id": "da9a51d3"
   },
   "source": [
    "## Zadanie 2 - wizualizacja (3 pkt)\n",
    "- Za pomocą pakietów `matplotlib` i `seaborn` stwórz dwa wykresy. \n",
    "- Wykorzystaj funkcję `matplotlib.pyplot.subplots`, by umieścić je we wspólnej figurze. \n",
    "- Jeden z wykresów ma opierać się na wynikach z zadania 1 - wizualizować odpowiedź na wybrane pytanie. \n",
    "- Drugi wykres może mieć dowolną tematykę, ale ma być powiązany z wcześniejszym, tak by figura mogła mieć wspólny tytuł."
   ]
  },
  {
   "cell_type": "code",
   "execution_count": 9,
   "id": "3c4c2735",
   "metadata": {
    "id": "3c4c2735"
   },
   "outputs": [
    {
     "data": {
      "image/png": "[encoded data removed]",
      "text/plain": [
       "<Figure size 1440x720 with 2 Axes>"
      ]
     },
     "metadata": {
      "needs_background": "light"
     },
     "output_type": "display_data"
    }
   ],
   "source": [
    "\n",
    "import matplotlib.pyplot as plt\n",
    "import seaborn as sns\n",
    "\n",
    "fig, ax = plt.subplots(2, 1, figsize=(20, 10))\n",
    "\n",
    "sns.barplot(x='Artist Name', y='roznica', data=artysci2, ax=ax[0])\n",
    "ax[0].set_title('Top 10 artystów z największą różnicą ocen dla swojego najlepiej i najgorzej ocenianego albumu')\n",
    "ax[0].set_xlabel('Artysta')\n",
    "ax[0].set_ylabel(\"Różnica\")\n",
    "\n",
    "df[\"rok\"] = df['Release Date'].str[-4:]\n",
    "albumy_liczba = df.groupby(\"rok\")[\"Artist Name\"].agg([\"count\"]).reset_index()\n",
    "albumy_liczba = albumy_liczba.sort_values(\"count\", ascending = False).head(10)\n",
    "\n",
    "\n",
    "sns.barplot(x='rok', y='count', data=albumy_liczba, ax=ax[1])\n",
    "ax[1].set_title('Top 10 lat z największą liczbą albumów')\n",
    "ax[1].set_xlabel('Rok')\n",
    "ax[1].set_ylabel(\"Liczba\")\n",
    "\n",
    "fig.suptitle('Muzyczne TOP 10', fontsize=20)\n",
    "\n",
    "plt.show()"
   ]
  },
  {
   "cell_type": "markdown",
   "id": "7467b52d",
   "metadata": {
    "id": "7467b52d"
   },
   "source": [
    "## * Zadanie 3 - bonusowe (1 pkt)"
   ]
  },
  {
   "cell_type": "markdown",
   "id": "ce3a0849",
   "metadata": {
    "id": "ce3a0849"
   },
   "source": [
    "Zapisz wygenerowaną figurę do formatu `.pgf` i załącz w raporcie wygenerowanym w `LaTeX` tak, by na wykresie zawierał się klikalny link do strony `www.rateyourmusic.com` (np. w tytule) - można zrobić to ręcznie, edytując zapisany plik `.pgf`. Przykład w katalogu z pracą domową w pliku `pgf_example.pdf` (klikalny tytuł i elementy legendy).  \n",
    "\n",
    "Załącz w rozwiązaniu wygenerowany plik `pdf`. "
   ]
  },
  {
   "cell_type": "code",
   "execution_count": null,
   "id": "758b5423",
   "metadata": {
    "id": "758b5423"
   },
   "outputs": [],
   "source": []
  }
 ],
 "metadata": {
  "colab": {
   "provenance": []
  },
  "kernelspec": {
   "display_name": "Python 3 (ipykernel)",
   "language": "python",
   "name": "python3"
  },
  "language_info": {
   "codemirror_mode": {
    "name": "ipython",
    "version": 3
   },
   "file_extension": ".py",
   "mimetype": "text/x-python",
   "name": "python",
   "nbconvert_exporter": "python",
   "pygments_lexer": "ipython3",
   "version": "3.9.7"
  }
 },
 "nbformat": 4,
 "nbformat_minor": 5
}
