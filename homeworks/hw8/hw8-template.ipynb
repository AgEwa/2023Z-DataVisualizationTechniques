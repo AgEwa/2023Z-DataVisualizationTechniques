{
 "cells": [
  {
   "cell_type": "markdown",
   "id": "caa75dbf",
   "metadata": {},
   "source": [
    "# Praca domowa nr 8"
   ]
  },
  {
   "cell_type": "markdown",
   "id": "b5401c27",
   "metadata": {},
   "source": [
    "- Dane to tej pracy domowej to lista top 5000 albumów muzycznych wg portalu [rateyourmusic.com](https://rateyourmusic.com). Dataset wraz z opisem można znaleźć na [Kaggle'u](https://www.kaggle.com/datasets/michaelbryantds/top-5000-albums-of-all-time-rateyourmusiccom). \n",
    "- Dane znajdują się też w katalogu z pracą domową - nazwa pliku to `rym_top5000.csv`.  "
   ]
  },
  {
   "cell_type": "markdown",
   "id": "4f2dc2f5",
   "metadata": {},
   "source": [
    "## Zadanie 1 - `numpy` + `pandas` (2 pkt)\n",
    "Używając funkcji z pakietów `numpy` oraz `pandas` odpowiedz na poniższe pytania dotyczące zbioru danych o albumach muzycznych."
   ]
  },
  {
   "cell_type": "code",
   "execution_count": 1,
   "id": "7c1befd1",
   "metadata": {},
   "outputs": [],
   "source": [
    "import numpy as np\n",
    "import pandas as pd"
   ]
  },
  {
   "cell_type": "code",
   "execution_count": 2,
   "id": "227cdfef",
   "metadata": {},
   "outputs": [],
   "source": [
    "df = pd.read_csv(\"rym_top5000.csv\")"
   ]
  },
  {
   "cell_type": "code",
   "execution_count": 3,
   "id": "64d99c26",
   "metadata": {},
   "outputs": [
    {
     "data": {
      "text/html": [
       "<div>\n",
       "<style scoped>\n",
       "    .dataframe tbody tr th:only-of-type {\n",
       "        vertical-align: middle;\n",
       "    }\n",
       "\n",
       "    .dataframe tbody tr th {\n",
       "        vertical-align: top;\n",
       "    }\n",
       "\n",
       "    .dataframe thead th {\n",
       "        text-align: right;\n",
       "    }\n",
       "</style>\n",
       "<table border=\"1\" class=\"dataframe\">\n",
       "  <thead>\n",
       "    <tr style=\"text-align: right;\">\n",
       "      <th></th>\n",
       "      <th>Ranking</th>\n",
       "      <th>Album</th>\n",
       "      <th>Artist Name</th>\n",
       "      <th>Release Date</th>\n",
       "      <th>Genres</th>\n",
       "      <th>Descriptors</th>\n",
       "      <th>Average Rating</th>\n",
       "      <th>Number of Ratings</th>\n",
       "      <th>Number of Reviews</th>\n",
       "    </tr>\n",
       "  </thead>\n",
       "  <tbody>\n",
       "    <tr>\n",
       "      <th>0</th>\n",
       "      <td>1.0</td>\n",
       "      <td>OK Computer</td>\n",
       "      <td>Radiohead</td>\n",
       "      <td>16 June 1997</td>\n",
       "      <td>Alternative Rock, Art Rock</td>\n",
       "      <td>melancholic, anxious, futuristic, alienation, ...</td>\n",
       "      <td>4.23</td>\n",
       "      <td>70,382</td>\n",
       "      <td>1531</td>\n",
       "    </tr>\n",
       "    <tr>\n",
       "      <th>1</th>\n",
       "      <td>2.0</td>\n",
       "      <td>Wish You Were Here</td>\n",
       "      <td>Pink Floyd</td>\n",
       "      <td>12 September 1975</td>\n",
       "      <td>Progressive Rock, Art Rock</td>\n",
       "      <td>melancholic, atmospheric, progressive, male vo...</td>\n",
       "      <td>4.29</td>\n",
       "      <td>48,662</td>\n",
       "      <td>983</td>\n",
       "    </tr>\n",
       "    <tr>\n",
       "      <th>2</th>\n",
       "      <td>3.0</td>\n",
       "      <td>In the Court of the Crimson King</td>\n",
       "      <td>King Crimson</td>\n",
       "      <td>10 October 1969</td>\n",
       "      <td>Progressive Rock, Art Rock</td>\n",
       "      <td>fantasy, epic, progressive, philosophical, com...</td>\n",
       "      <td>4.30</td>\n",
       "      <td>44,943</td>\n",
       "      <td>870</td>\n",
       "    </tr>\n",
       "    <tr>\n",
       "      <th>3</th>\n",
       "      <td>4.0</td>\n",
       "      <td>Kid A</td>\n",
       "      <td>Radiohead</td>\n",
       "      <td>3 October 2000</td>\n",
       "      <td>Art Rock, Experimental Rock, Electronic</td>\n",
       "      <td>cold, melancholic, futuristic, atmospheric, an...</td>\n",
       "      <td>4.21</td>\n",
       "      <td>58,590</td>\n",
       "      <td>734</td>\n",
       "    </tr>\n",
       "    <tr>\n",
       "      <th>4</th>\n",
       "      <td>5.0</td>\n",
       "      <td>To Pimp a Butterfly</td>\n",
       "      <td>Kendrick Lamar</td>\n",
       "      <td>15 March 2015</td>\n",
       "      <td>Conscious Hip Hop, West Coast Hip Hop, Jazz Rap</td>\n",
       "      <td>political, conscious, poetic, protest, concept...</td>\n",
       "      <td>4.27</td>\n",
       "      <td>44,206</td>\n",
       "      <td>379</td>\n",
       "    </tr>\n",
       "  </tbody>\n",
       "</table>\n",
       "</div>"
      ],
      "text/plain": [
       "   Ranking                             Album     Artist Name  \\\n",
       "0      1.0                       OK Computer       Radiohead   \n",
       "1      2.0                Wish You Were Here      Pink Floyd   \n",
       "2      3.0  In the Court of the Crimson King    King Crimson   \n",
       "3      4.0                             Kid A       Radiohead   \n",
       "4      5.0               To Pimp a Butterfly  Kendrick Lamar   \n",
       "\n",
       "        Release Date                                           Genres  \\\n",
       "0       16 June 1997                       Alternative Rock, Art Rock   \n",
       "1  12 September 1975                       Progressive Rock, Art Rock   \n",
       "2    10 October 1969                       Progressive Rock, Art Rock   \n",
       "3     3 October 2000          Art Rock, Experimental Rock, Electronic   \n",
       "4      15 March 2015  Conscious Hip Hop, West Coast Hip Hop, Jazz Rap   \n",
       "\n",
       "                                         Descriptors  Average Rating  \\\n",
       "0  melancholic, anxious, futuristic, alienation, ...            4.23   \n",
       "1  melancholic, atmospheric, progressive, male vo...            4.29   \n",
       "2  fantasy, epic, progressive, philosophical, com...            4.30   \n",
       "3  cold, melancholic, futuristic, atmospheric, an...            4.21   \n",
       "4  political, conscious, poetic, protest, concept...            4.27   \n",
       "\n",
       "  Number of Ratings  Number of Reviews  \n",
       "0            70,382               1531  \n",
       "1            48,662                983  \n",
       "2            44,943                870  \n",
       "3            58,590                734  \n",
       "4            44,206                379  "
      ]
     },
     "execution_count": 3,
     "metadata": {},
     "output_type": "execute_result"
    }
   ],
   "source": [
    "df.head()"
   ]
  },
  {
   "cell_type": "markdown",
   "id": "9db9ab53",
   "metadata": {},
   "source": [
    "#### Jacy artyści z ponad 5 albumami na liście mają największą medianę ocen dla swoich albumów? Podaj top 10."
   ]
  },
  {
   "cell_type": "code",
   "execution_count": null,
   "id": "eea99bae",
   "metadata": {},
   "outputs": [],
   "source": []
  },
  {
   "cell_type": "markdown",
   "id": "5b24ae18",
   "metadata": {},
   "source": [
    "#### Jacy artyści mają największą różnicę między najgorszym i najlepszym średnim ratingiem dla swojego albumu? Podaj top 10  oraz najwyższą i najniższą ocenę dla każdego z tych artystów. "
   ]
  },
  {
   "cell_type": "code",
   "execution_count": null,
   "id": "239a5b5e",
   "metadata": {},
   "outputs": [],
   "source": []
  },
  {
   "cell_type": "markdown",
   "id": "c3b4419a",
   "metadata": {},
   "source": [
    "#### Podaj top 10 albumów o największym stosunku liczby ocen do liczby recenzji. Weź pod uwagę tylko albumy o przynajmniej 5000 ocenach i 15 recenzjach."
   ]
  },
  {
   "cell_type": "code",
   "execution_count": null,
   "id": "0893f98e",
   "metadata": {},
   "outputs": [],
   "source": []
  },
  {
   "cell_type": "markdown",
   "id": "dd2408a1",
   "metadata": {},
   "source": [
    "#### Z których lat pochodzi najwięcej albumów na liście najpopularniejszych wśród krytyków i najpopularniejszych wśród oceniających? \n",
    "a) Podaj 5 lat, w których wydano najwięcej albumów z listy mających liczbę recenzji większą niż Q3 (trzeci kwartyl).\n",
    "\n",
    "b) Podaj 5 lat, w których wydano najwięcej albumów z listy mających liczbę ocen większą niż Q3 (trzeci kwartyl).\n"
   ]
  },
  {
   "cell_type": "code",
   "execution_count": null,
   "id": "dc06bfbf",
   "metadata": {},
   "outputs": [],
   "source": []
  },
  {
   "cell_type": "markdown",
   "id": "da9a51d3",
   "metadata": {},
   "source": [
    "## Zadanie 2 - wizualizacja (3 pkt)\n",
    "- Za pomocą pakietów `matplotlib` i `seaborn` stwórz dwa wykresy. \n",
    "- Wykorzystaj funkcję `matplotlib.pyplot.subplots`, by umieścić je we wspólnej figurze. \n",
    "- Jeden z wykresów ma opierać się na wynikach z zadania 1 - wizualizować odpowiedź na wybrane pytanie. \n",
    "- Drugi wykres może mieć dowolną tematykę, ale ma być powiązany z wcześniejszym, tak by figura mogła mieć wspólny tytuł."
   ]
  },
  {
   "cell_type": "code",
   "execution_count": null,
   "id": "3c4c2735",
   "metadata": {},
   "outputs": [],
   "source": []
  },
  {
   "cell_type": "markdown",
   "id": "7467b52d",
   "metadata": {},
   "source": [
    "## * Zadanie 3 - bonusowe (1 pkt)"
   ]
  },
  {
   "cell_type": "markdown",
   "id": "ce3a0849",
   "metadata": {},
   "source": [
    "Zapisz wygenerowaną figurę do formatu `.pgf` i załącz w raporcie wygenerowanym w `LaTeX` tak, by na wykresie zawierał się klikalny link do strony `www.rateyourmusic.com` (np. w tytule) - można zrobić to ręcznie, edytując zapisany plik `.pgf`. Przykład w katalogu z pracą domową w pliku `pgf_example.pdf` (klikalny tytuł i elementy legendy).  \n",
    "\n",
    "Załącz w rozwiązaniu wygenerowany plik `pdf`. "
   ]
  },
  {
   "cell_type": "code",
   "execution_count": null,
   "id": "758b5423",
   "metadata": {},
   "outputs": [],
   "source": []
  }
 ],
 "metadata": {
  "kernelspec": {
   "display_name": "Python 3 (ipykernel)",
   "language": "python",
   "name": "python3"
  },
  "language_info": {
   "codemirror_mode": {
    "name": "ipython",
    "version": 3
   },
   "file_extension": ".py",
   "mimetype": "text/x-python",
   "name": "python",
   "nbconvert_exporter": "python",
   "pygments_lexer": "ipython3",
   "version": "3.10.5"
  }
 },
 "nbformat": 4,
 "nbformat_minor": 5
}
